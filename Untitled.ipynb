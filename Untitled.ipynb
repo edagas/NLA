{
 "cells": [
  {
   "cell_type": "code",
   "execution_count": 45,
   "metadata": {
    "ExecuteTime": {
     "end_time": "2017-09-12T11:15:36.368536Z",
     "start_time": "2017-09-12T11:15:36.363181Z"
    },
    "collapsed": false
   },
   "outputs": [],
   "source": [
    "from scipy import *\n",
    "from numpy import *"
   ]
  },
  {
   "cell_type": "code",
   "execution_count": 135,
   "metadata": {
    "ExecuteTime": {
     "end_time": "2017-09-12T12:18:34.327574Z",
     "start_time": "2017-09-12T12:18:34.188245Z"
    },
    "code_folding": [
     25
    ],
    "collapsed": false
   },
   "outputs": [],
   "source": [
    "class Orthogonalization():\n",
    "    \n",
    "    def __init__(self, givenmatrix):\n",
    "        self.givenmatrix = givenmatrix\n",
    "    \n",
    "    def gramschmidt(self):\n",
    "        n = len(self.givenmatrix[0])\n",
    "        m = len(self.givenmatrix)\n",
    "        trianglematrix = zeros(shape=(n,n))\n",
    "        orthogonalmatrix = array(zeros(shape=(self.givenmatrix.shape)))\n",
    "        v = zeros(shape=(n,n))\n",
    "        for j in range(n):\n",
    "            v[j] = self.givenmatrix[j]\n",
    "            for i in range(j-1):\n",
    "                trianglematrix[i][j] = dot(orthogonalmatrix[i],self.givenmatrix[j])\n",
    "                v[j] = v[j] - trianglematrix[i][j]*orthogonalmatrix[i]\n",
    "            trianglematrix[j][j] = norm(v[j])\n",
    "            orthogonalmatrix[j] = divide(v[j],trianglematrix[j][j])\n",
    "\n",
    "        return orthogonalmatrix\n",
    "        \n",
    "    def norm(self, matrix):\n",
    "        return linalg.norm(matrix, ord=2)\n",
    "        \n",
    "        \n",
    "    def qtq(self, matrix):\n",
    "        return dot(matrix.transpose(),matrix)\n",
    "\n",
    "    def deviation(self, matrix):\n",
    "        qtq = self.qtq(matrix)\n",
    "        I = identity(len(qtq))\n",
    "        return self.norm(I-qtq)\n",
    "        \n",
    "    def allclose(self, matrix):\n",
    "        qtq = self.qtq(matrix)\n",
    "        I = identity(len(qtq))\n",
    "        return allclose(qtq, I)\n",
    "        \n",
    "    def eigenvalues(self, matrix):\n",
    "        return eigvals(self.qtq(matrix))\n",
    "    \n",
    "    def determinant(self, matrix):\n",
    "        return det(self.qtq(matrix))\n",
    "    \n",
    "    def householder(self):\n",
    "        m = shape(self.givenmatrix)[0]\n",
    "        n = shape(self.givenmatrix)[1]\n",
    "        R = array(zeros(shape=(m,n)))\n",
    "        Q = eye(m)\n",
    "        #print(R)\n",
    "        A = self.givenmatrix\n",
    "        for i in range(n-1):\n",
    "            print(i)\n",
    "            #print(self.givenmatrix)\n",
    "            #print(A)\n",
    "            a = A[:,0]\n",
    "            ahat = array([linalg.norm(a)]+(m-(1+i))*[0])\n",
    "            v = a-ahat\n",
    "            v /= linalg.norm(v)\n",
    "            Q_i= eye(m-i) - 2*outer(v,v)\n",
    "            R_i = dot(Q_i,A)\n",
    "            #print(R)\n",
    "            #print(R[:,i][i:])\n",
    "            #print(R[i,:][i:])\n",
    "            R[:,i][i:] = R_i[:,1]\n",
    "            R[i,:][i:] = R_i[1,:]\n",
    "            #print(R[:,1:])\n",
    "            #print(R)\n",
    "            print(Q_i)\n",
    "            print(zeros((m-i,i)))\n",
    "            Q_i = c_[zeros((m-i,i)), Q_i]\n",
    "            print(Q_i)\n",
    "            Q_i = r_[eye(i,m), Q_i]\n",
    "            \n",
    "            Q = Q_i@Q \n",
    "            A = self.givenmatrix[1:, 1:]\n",
    "        #return Q\n",
    "    "
   ]
  },
  {
   "cell_type": "code",
   "execution_count": 136,
   "metadata": {
    "ExecuteTime": {
     "end_time": "2017-09-12T12:18:36.534981Z",
     "start_time": "2017-09-12T12:18:36.498946Z"
    },
    "collapsed": false
   },
   "outputs": [
    {
     "name": "stdout",
     "output_type": "stream",
     "text": [
      "0\n",
      "[[ 0.10550166  0.41383006  0.45478445  0.40233284  0.22632876  0.34276751\n",
      "   0.19793624  0.32761021  0.10900949  0.34901136]\n",
      " [ 0.41383006  0.80854596 -0.21040115 -0.18613497 -0.10470857 -0.15857771\n",
      "  -0.09157308 -0.15156535 -0.05043207 -0.16146636]\n",
      " [ 0.45478445 -0.21040115  0.76877666 -0.20455568 -0.11507098 -0.17427124\n",
      "  -0.10063554 -0.1665649  -0.05542304 -0.17744576]\n",
      " [ 0.40233284 -0.18613497 -0.20455568  0.81903632 -0.10179951 -0.15417203\n",
      "  -0.08902895 -0.14735449 -0.04903094 -0.15698043]\n",
      " [ 0.22632876 -0.10470857 -0.11507098 -0.10179951  0.94273359 -0.0867281\n",
      "  -0.05008244 -0.08289296 -0.02758192 -0.08830794]\n",
      " [ 0.34276751 -0.15857771 -0.17427124 -0.15417203 -0.0867281   0.86865312\n",
      "  -0.07584822 -0.12553867 -0.04177192 -0.13373949]\n",
      " [ 0.19793624 -0.09157308 -0.10063554 -0.08902895 -0.05008244 -0.07584822\n",
      "   0.95620031 -0.07249419 -0.02412182 -0.07722987]\n",
      " [ 0.32761021 -0.15156535 -0.1665649  -0.14735449 -0.08289296 -0.12553867\n",
      "  -0.07249419  0.88001269 -0.03992475 -0.12782548]\n",
      " [ 0.10900949 -0.05043207 -0.05542304 -0.04903094 -0.02758192 -0.04177192\n",
      "  -0.02412182 -0.03992475  0.98671538 -0.04253283]\n",
      " [ 0.34901136 -0.16146636 -0.17744576 -0.15698043 -0.08830794 -0.13373949\n",
      "  -0.07722987 -0.12782548 -0.04253283  0.86382431]]\n",
      "[]\n",
      "[[ 0.10550166  0.41383006  0.45478445  0.40233284  0.22632876  0.34276751\n",
      "   0.19793624  0.32761021  0.10900949  0.34901136]\n",
      " [ 0.41383006  0.80854596 -0.21040115 -0.18613497 -0.10470857 -0.15857771\n",
      "  -0.09157308 -0.15156535 -0.05043207 -0.16146636]\n",
      " [ 0.45478445 -0.21040115  0.76877666 -0.20455568 -0.11507098 -0.17427124\n",
      "  -0.10063554 -0.1665649  -0.05542304 -0.17744576]\n",
      " [ 0.40233284 -0.18613497 -0.20455568  0.81903632 -0.10179951 -0.15417203\n",
      "  -0.08902895 -0.14735449 -0.04903094 -0.15698043]\n",
      " [ 0.22632876 -0.10470857 -0.11507098 -0.10179951  0.94273359 -0.0867281\n",
      "  -0.05008244 -0.08289296 -0.02758192 -0.08830794]\n",
      " [ 0.34276751 -0.15857771 -0.17427124 -0.15417203 -0.0867281   0.86865312\n",
      "  -0.07584822 -0.12553867 -0.04177192 -0.13373949]\n",
      " [ 0.19793624 -0.09157308 -0.10063554 -0.08902895 -0.05008244 -0.07584822\n",
      "   0.95620031 -0.07249419 -0.02412182 -0.07722987]\n",
      " [ 0.32761021 -0.15156535 -0.1665649  -0.14735449 -0.08289296 -0.12553867\n",
      "  -0.07249419  0.88001269 -0.03992475 -0.12782548]\n",
      " [ 0.10900949 -0.05043207 -0.05542304 -0.04903094 -0.02758192 -0.04177192\n",
      "  -0.02412182 -0.03992475  0.98671538 -0.04253283]\n",
      " [ 0.34901136 -0.16146636 -0.17744576 -0.15698043 -0.08830794 -0.13373949\n",
      "  -0.07722987 -0.12782548 -0.04253283  0.86382431]]\n",
      "1\n",
      "[[ 0.14076266  0.39058215  0.29545117  0.33094976  0.45351241  0.38301298\n",
      "   0.19378505  0.1313127   0.47291035]\n",
      " [ 0.39058215  0.82245369 -0.13430277 -0.15043931 -0.20615242 -0.1741056\n",
      "  -0.08808856 -0.05969061 -0.21497011]\n",
      " [ 0.29545117 -0.13430277  0.89840829 -0.113798   -0.15594151 -0.13170009\n",
      "  -0.06663353 -0.04515224 -0.16261155]\n",
      " [ 0.33094976 -0.15043931 -0.113798    0.87252912 -0.17467795 -0.14752391\n",
      "  -0.07463958 -0.0505773  -0.1821494 ]\n",
      " [ 0.45351241 -0.20615242 -0.15594151 -0.17467795  0.76063249 -0.20215734\n",
      "  -0.10228132 -0.06930791 -0.24960591]\n",
      " [ 0.38301298 -0.1741056  -0.13170009 -0.14752391 -0.20215734  0.82926843\n",
      "  -0.08638148 -0.05853385 -0.21080416]\n",
      " [ 0.19378505 -0.08808856 -0.06663353 -0.07463958 -0.10228132 -0.08638148\n",
      "   0.95629537 -0.02961515 -0.10665616]\n",
      " [ 0.1313127  -0.05969061 -0.04515224 -0.0505773  -0.06930791 -0.05853385\n",
      "  -0.02961515  0.97993217 -0.07227239]\n",
      " [ 0.47291035 -0.21497011 -0.16261155 -0.1821494  -0.24960591 -0.21080416\n",
      "  -0.10665616 -0.07227239  0.73971778]]\n",
      "[[ 0.]\n",
      " [ 0.]\n",
      " [ 0.]\n",
      " [ 0.]\n",
      " [ 0.]\n",
      " [ 0.]\n",
      " [ 0.]\n",
      " [ 0.]\n",
      " [ 0.]]\n",
      "[[ 0.          0.14076266  0.39058215  0.29545117  0.33094976  0.45351241\n",
      "   0.38301298  0.19378505  0.1313127   0.47291035]\n",
      " [ 0.          0.39058215  0.82245369 -0.13430277 -0.15043931 -0.20615242\n",
      "  -0.1741056  -0.08808856 -0.05969061 -0.21497011]\n",
      " [ 0.          0.29545117 -0.13430277  0.89840829 -0.113798   -0.15594151\n",
      "  -0.13170009 -0.06663353 -0.04515224 -0.16261155]\n",
      " [ 0.          0.33094976 -0.15043931 -0.113798    0.87252912 -0.17467795\n",
      "  -0.14752391 -0.07463958 -0.0505773  -0.1821494 ]\n",
      " [ 0.          0.45351241 -0.20615242 -0.15594151 -0.17467795  0.76063249\n",
      "  -0.20215734 -0.10228132 -0.06930791 -0.24960591]\n",
      " [ 0.          0.38301298 -0.1741056  -0.13170009 -0.14752391 -0.20215734\n",
      "   0.82926843 -0.08638148 -0.05853385 -0.21080416]\n",
      " [ 0.          0.19378505 -0.08808856 -0.06663353 -0.07463958 -0.10228132\n",
      "  -0.08638148  0.95629537 -0.02961515 -0.10665616]\n",
      " [ 0.          0.1313127  -0.05969061 -0.04515224 -0.0505773  -0.06930791\n",
      "  -0.05853385 -0.02961515  0.97993217 -0.07227239]\n",
      " [ 0.          0.47291035 -0.21497011 -0.16261155 -0.1821494  -0.24960591\n",
      "  -0.21080416 -0.10665616 -0.07227239  0.73971778]]\n",
      "2\n"
     ]
    },
    {
     "ename": "ValueError",
     "evalue": "operands could not be broadcast together with shapes (9,) (8,) ",
     "output_type": "error",
     "traceback": [
      "\u001b[0;31m---------------------------------------------------------------------------\u001b[0m",
      "\u001b[0;31mValueError\u001b[0m                                Traceback (most recent call last)",
      "\u001b[0;32m<ipython-input-136-d5adae08357c>\u001b[0m in \u001b[0;36m<module>\u001b[0;34m()\u001b[0m\n\u001b[1;32m      1\u001b[0m \u001b[0mA\u001b[0m \u001b[0;34m=\u001b[0m \u001b[0mOrthogonalization\u001b[0m\u001b[0;34m(\u001b[0m\u001b[0mrandom\u001b[0m\u001b[0;34m.\u001b[0m\u001b[0mrand\u001b[0m\u001b[0;34m(\u001b[0m\u001b[0;36m10\u001b[0m\u001b[0;34m,\u001b[0m\u001b[0;36m10\u001b[0m\u001b[0;34m)\u001b[0m\u001b[0;34m)\u001b[0m\u001b[0;34m\u001b[0m\u001b[0m\n\u001b[0;32m----> 2\u001b[0;31m \u001b[0mprint\u001b[0m\u001b[0;34m(\u001b[0m\u001b[0mA\u001b[0m\u001b[0;34m.\u001b[0m\u001b[0mhouseholder\u001b[0m\u001b[0;34m(\u001b[0m\u001b[0;34m)\u001b[0m\u001b[0;34m)\u001b[0m\u001b[0;34m\u001b[0m\u001b[0m\n\u001b[0m",
      "\u001b[0;32m<ipython-input-135-e5831a7dc234>\u001b[0m in \u001b[0;36mhouseholder\u001b[0;34m(self)\u001b[0m\n\u001b[1;32m     56\u001b[0m             \u001b[0ma\u001b[0m \u001b[0;34m=\u001b[0m \u001b[0mA\u001b[0m\u001b[0;34m[\u001b[0m\u001b[0;34m:\u001b[0m\u001b[0;34m,\u001b[0m\u001b[0;36m0\u001b[0m\u001b[0;34m]\u001b[0m\u001b[0;34m\u001b[0m\u001b[0m\n\u001b[1;32m     57\u001b[0m             \u001b[0mahat\u001b[0m \u001b[0;34m=\u001b[0m \u001b[0marray\u001b[0m\u001b[0;34m(\u001b[0m\u001b[0;34m[\u001b[0m\u001b[0mlinalg\u001b[0m\u001b[0;34m.\u001b[0m\u001b[0mnorm\u001b[0m\u001b[0;34m(\u001b[0m\u001b[0ma\u001b[0m\u001b[0;34m)\u001b[0m\u001b[0;34m]\u001b[0m\u001b[0;34m+\u001b[0m\u001b[0;34m(\u001b[0m\u001b[0mm\u001b[0m\u001b[0;34m-\u001b[0m\u001b[0;34m(\u001b[0m\u001b[0;36m1\u001b[0m\u001b[0;34m+\u001b[0m\u001b[0mi\u001b[0m\u001b[0;34m)\u001b[0m\u001b[0;34m)\u001b[0m\u001b[0;34m*\u001b[0m\u001b[0;34m[\u001b[0m\u001b[0;36m0\u001b[0m\u001b[0;34m]\u001b[0m\u001b[0;34m)\u001b[0m\u001b[0;34m\u001b[0m\u001b[0m\n\u001b[0;32m---> 58\u001b[0;31m             \u001b[0mv\u001b[0m \u001b[0;34m=\u001b[0m \u001b[0ma\u001b[0m\u001b[0;34m-\u001b[0m\u001b[0mahat\u001b[0m\u001b[0;34m\u001b[0m\u001b[0m\n\u001b[0m\u001b[1;32m     59\u001b[0m             \u001b[0mv\u001b[0m \u001b[0;34m/=\u001b[0m \u001b[0mlinalg\u001b[0m\u001b[0;34m.\u001b[0m\u001b[0mnorm\u001b[0m\u001b[0;34m(\u001b[0m\u001b[0mv\u001b[0m\u001b[0;34m)\u001b[0m\u001b[0;34m\u001b[0m\u001b[0m\n\u001b[1;32m     60\u001b[0m             \u001b[0mQ_i\u001b[0m\u001b[0;34m=\u001b[0m \u001b[0meye\u001b[0m\u001b[0;34m(\u001b[0m\u001b[0mm\u001b[0m\u001b[0;34m-\u001b[0m\u001b[0mi\u001b[0m\u001b[0;34m)\u001b[0m \u001b[0;34m-\u001b[0m \u001b[0;36m2\u001b[0m\u001b[0;34m*\u001b[0m\u001b[0mouter\u001b[0m\u001b[0;34m(\u001b[0m\u001b[0mv\u001b[0m\u001b[0;34m,\u001b[0m\u001b[0mv\u001b[0m\u001b[0;34m)\u001b[0m\u001b[0;34m\u001b[0m\u001b[0m\n",
      "\u001b[0;31mValueError\u001b[0m: operands could not be broadcast together with shapes (9,) (8,) "
     ]
    }
   ],
   "source": [
    "A = Orthogonalization(random.rand(10,10))\n",
    "print(A.householder())\n"
   ]
  }
 ],
 "metadata": {
  "anaconda-cloud": {},
  "kernelspec": {
   "display_name": "Python [conda root]",
   "language": "python",
   "name": "conda-root-py"
  },
  "language_info": {
   "codemirror_mode": {
    "name": "ipython",
    "version": 3
   },
   "file_extension": ".py",
   "mimetype": "text/x-python",
   "name": "python",
   "nbconvert_exporter": "python",
   "pygments_lexer": "ipython3",
   "version": "3.5.2"
  },
  "toc": {
   "nav_menu": {},
   "number_sections": true,
   "sideBar": true,
   "skip_h1_title": false,
   "toc_cell": false,
   "toc_position": {},
   "toc_section_display": "block",
   "toc_window_display": false
  },
  "varInspector": {
   "cols": {
    "lenName": 16,
    "lenType": 16,
    "lenVar": 40
   },
   "kernels_config": {
    "python": {
     "delete_cmd_postfix": "",
     "delete_cmd_prefix": "del ",
     "library": "var_list.py",
     "varRefreshCmd": "print(var_dic_list())"
    },
    "r": {
     "delete_cmd_postfix": ") ",
     "delete_cmd_prefix": "rm(",
     "library": "var_list.r",
     "varRefreshCmd": "cat(var_dic_list()) "
    }
   },
   "types_to_exclude": [
    "module",
    "function",
    "builtin_function_or_method",
    "instance",
    "_Feature"
   ],
   "window_display": false
  }
 },
 "nbformat": 4,
 "nbformat_minor": 1
}
