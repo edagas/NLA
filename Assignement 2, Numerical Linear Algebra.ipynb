{
 "cells": [
  {
   "cell_type": "markdown",
   "metadata": {},
   "source": [
    "A# Ramona Bendias, Eda Dagasan"
   ]
  },
  {
   "cell_type": "markdown",
   "metadata": {},
   "source": [
    "# Task 1"
   ]
  },
  {
   "cell_type": "code",
   "execution_count": 2,
   "metadata": {
    "ExecuteTime": {
     "end_time": "2017-09-13T18:24:37.939862Z",
     "start_time": "2017-09-13T18:24:35.855204Z"
    },
    "collapsed": true
   },
   "outputs": [],
   "source": [
    "import numpy as np\n",
    "import scipy.linalg as la\n",
    "\n",
    "\n",
    "class Orthogonalization():\n",
    "    \"\"\"\n",
    "    A class of matrices with methods that orthogonalize the objects with\n",
    "    different algorithms and that evaluate the result in different ways.\n",
    "    \"\"\"\n",
    "    \n",
    "    def __init__(self, givenmatrix):\n",
    "        self.givenmatrix = givenmatrix\n",
    "    \n",
    "    def gramschmidt(self):\n",
    "        \"\"\"\n",
    "        Gram-Schmidt orthogonalization of an object of the class. \n",
    "        The method returns a matrice 'orthogonalmatrix' that is an \n",
    "        orthogonal basis of range(A).\n",
    "        \"\"\"\n",
    "        n = len(self.givenmatrix[0])\n",
    "        m = len(self.givenmatrix)\n",
    "        trianglematrix = np.zeros(shape=(n,n))\n",
    "        orthogonalmatrix = np.array(np.zeros(shape=(self.givenmatrix.shape)))\n",
    "        for j in range(n):\n",
    "            v_j = self.givenmatrix[:,j] #j:th column\n",
    "            for i in range(j):\n",
    "                q_i = orthogonalmatrix[:,i] #i:th column\n",
    "                r_ij = dot(q_i,v_j)\n",
    "                v_j -= r_ij*q_i\n",
    "                trianglematrix[i][j] = r_ij\n",
    "            r_jj = norm(v_j)\n",
    "            trianglematrix[j][j] = r_jj\n",
    "            q_j = v_j/r_jj\n",
    "            orthogonalmatrix[:,j] = q_j\n",
    "\n",
    "        return orthogonalmatrix, trianglematrix\n",
    "   \n",
    "    def norm(self, matrix):\n",
    "        \"\"\"\n",
    "        Returns the 2-norm of a the input matrix A.\n",
    "        \"\"\"\n",
    "        return np.linalg.norm(matrix, ord=2)\n",
    "        \n",
    "        \n",
    "    def qtq(self, matrix):\n",
    "        \"\"\"\n",
    "        Returns the matrix product of the transpose of the input matrix A with\n",
    "        itself.\n",
    "        \"\"\"\n",
    "        return np.dot(matrix.transpose(),matrix)\n",
    "        \n",
    "    def deviation(self, matrix):\n",
    "        \"\"\"\n",
    "        Returns the deviation of the output matrix of qtq from the identity \n",
    "        matrix.\n",
    "        \"\"\"\n",
    "        qtq = self.qtq(matrix)\n",
    "        I = np.identity(len(qtq))\n",
    "        return self.norm(I-qtq)\n",
    "        \n",
    "    def allclose(self, matrix):\n",
    "        \"\"\"\n",
    "        Returns True/False if all the entries of QTQ are closer than a \n",
    "        certain tolerance to the identity matrix.\n",
    "        \"\"\"\n",
    "        qtq = self.qtq(matrix)\n",
    "        I = np.identity(len(qtq))\n",
    "        return np.allclose(qtq, I)\n",
    "        \n",
    "    def eigenvalues(self, matrix):\n",
    "        \"\"\"\n",
    "        Returns an array with the eigenvalues of qtq of the input matrix A.\n",
    "        \"\"\"\n",
    "        return la.eigvals(self.qtq(matrix))\n",
    "    \n",
    "    def determinant(self, matrix):\n",
    "        \"\"\"\n",
    "        Returns the determinant of qtq of the input matrix A.\n",
    "        \"\"\"\n",
    "        return la.det(self.qtq(matrix))"
   ]
  },
  {
   "cell_type": "code",
   "execution_count": 3,
   "metadata": {
    "ExecuteTime": {
     "end_time": "2017-09-13T18:24:38.542651Z",
     "start_time": "2017-09-13T18:24:38.424068Z"
    },
    "collapsed": false,
    "scrolled": true
   },
   "outputs": [
    {
     "name": "stdout",
     "output_type": "stream",
     "text": [
      "Random matrix [[ 0.43497842  0.9388841   0.43026994  0.80882054]\n",
      " [ 0.17754918  0.73005302  0.87184522  0.25520397]\n",
      " [ 0.29745454  0.16620749  0.22007574  0.29290153]\n",
      " [ 0.21082613  0.30496243  0.04712944  0.11126076]]\n",
      "Orthogonalized matrix [[ 0.31473666  0.67934692  0.31132976  0.58523703]\n",
      " [ 0.15060911  0.61927986  0.7395575   0.21648109]\n",
      " [ 0.69493945 -0.60709241  0.35902741  0.13999032]\n",
      " [ 0.17184164 -0.32318593 -0.80544645 -0.46613016]]\n"
     ]
    }
   ],
   "source": [
    "A0 = np.random.rand(4,4)\n",
    "print('Random matrix', A0)\n",
    "A = Orthogonalization(A0)\n",
    "V = A.gramschmidt()\n",
    "print('Orthogonalized matrix', V)"
   ]
  },
  {
   "cell_type": "markdown",
   "metadata": {},
   "source": [
    "# Task 2"
   ]
  },
  {
   "cell_type": "code",
   "execution_count": 38,
   "metadata": {
    "ExecuteTime": {
     "end_time": "2017-09-13T20:59:57.490348Z",
     "start_time": "2017-09-13T20:59:57.476606Z"
    },
    "collapsed": false
   },
   "outputs": [],
   "source": [
    "def test(m,n, eigenvalues=None):\n",
    "    '''\n",
    "    @param m: integer which gives the number of rows \n",
    "    @param n: integer which gives the number of columns\n",
    "    Creates a random matrix with the shape mxn and returns after the gramschmidt factorisation characteristic values of Q and QTQ. \n",
    "    '''\n",
    "    matrix = np.random.rand(m,n)\n",
    "    QR = Orthogonalization(matrix)\n",
    "    norm = QR.norm(QR.gramschmidt()[0])\n",
    "    if eigenvalues:\n",
    "        eigenvalues = QR.eigenvalues(QR.qtq(QR.gramschmidt()[0]))\n",
    "    else: \n",
    "        eigenvalues = \"not calculated  (To calculat them add e.g. a number to the input)\"\n",
    "    determinant = QR.determinant(QR.qtq(QR.gramschmidt()[0]))\n",
    "    deviation = QR.deviation(QR.qtq(QR.gramschmidt()[0]))\n",
    "    \n",
    "    return \"The two norm of the orthorganal matrix should be 1 and is: {}, the deviation of the QTQ and I is: {}, the eigenvalues of the QTQ are: {} and the determinat of the same matrix is: {}\".format(norm, deviation, eigenvalues, determinant)"
   ]
  },
  {
   "cell_type": "code",
   "execution_count": 45,
   "metadata": {
    "ExecuteTime": {
     "end_time": "2017-09-13T21:23:02.449800Z",
     "start_time": "2017-09-13T21:22:48.721932Z"
    },
    "collapsed": false
   },
   "outputs": [
    {
     "data": {
      "text/plain": [
       "'The two norm of the orthorganal matrix should be 1 and is: 31.582920120779637, the deviation of the QTQ and I is: 994967.0328612943, the eigenvalues of the QTQ are: not calculated  (To calculat them add a number to the input) and the determinat of the same matrix is: 0.0'"
      ]
     },
     "execution_count": 45,
     "metadata": {},
     "output_type": "execute_result"
    }
   ],
   "source": [
    "test(1000,1000)"
   ]
  },
  {
   "cell_type": "code",
   "execution_count": 46,
   "metadata": {
    "ExecuteTime": {
     "end_time": "2017-09-13T21:23:06.619090Z",
     "start_time": "2017-09-13T21:23:06.609145Z"
    },
    "collapsed": false
   },
   "outputs": [
    {
     "data": {
      "text/plain": [
       "'The two norm of the orthorganal matrix should be 1 and is: 1.8504294963586974, the deviation of the QTQ and I is: 10.724387678147224, the eigenvalues of the QTQ are: [  1.17243877e+01+0.j   1.16443753e+00+0.j   1.53120792e-01+0.j\\n   8.83812455e-03+0.j   1.32291279e-04+0.j] and the determinat of the same matrix is: 2.4441725584033355e-06'"
      ]
     },
     "execution_count": 46,
     "metadata": {},
     "output_type": "execute_result"
    }
   ],
   "source": [
    "test(5,5,1)"
   ]
  },
  {
   "cell_type": "markdown",
   "metadata": {},
   "source": [
    "The values of the test shouldn't be like they are. The norm of the Orthogonalmatrix should be 1 and is complete different. There is no rules e.g the bigger the matrix is the bigger the norm gets. The deviation of the QTQ from the identidymatrix is very high and if we use the numpy command allclose it is always FALSE, which means that the deviation is two big (measured by standard tolerance setting of numpy). Also the eigenvalues are not always 1 or -1, this is the same for the determinat. "
   ]
  },
  {
   "cell_type": "markdown",
   "metadata": {},
   "source": [
    "# Task 3"
   ]
  },
  {
   "cell_type": "code",
   "execution_count": 14,
   "metadata": {
    "collapsed": false
   },
   "outputs": [
    {
     "name": "stdout",
     "output_type": "stream",
     "text": [
      "Triangular matrix: [[-0.84586696 -1.1982873  -0.78918292 -0.53369087]\n",
      " [ 0.         -0.47659756  0.27506307 -0.36084838]\n",
      " [ 0.          0.         -0.45658428 -0.59754839]\n",
      " [ 0.          0.          0.         -0.29355005]]\n",
      "B@S [[ 0.71817933  0.80297935  0.66760897  0.12034719]\n",
      " [ 0.07478469  0.16089319  0.04697639  0.39083824]\n",
      " [ 0.19026435  0.19110106  0.66118018  0.62857187]\n",
      " [ 0.3973866   0.97767869  0.1478879   0.5439969 ]]\n",
      "Norm B: 1.0\n",
      "Dev of BTB from I: 4.99839120305e-16\n",
      "BtB close to I? True\n",
      "Eigenvalues of BTB: [ 1.+0.j  1.+0.j  1.+0.j  1.+0.j]\n",
      "Determinant of BTB: 1.0\n"
     ]
    }
   ],
   "source": [
    "B,S = la.qr(A0)\n",
    "\n",
    "print('Triangular matrix:', S)\n",
    "print('B@S',B@S)\n",
    "print('Norm B:', A.norm(B))\n",
    "print('Dev of BTB from I:', A.deviation(B))\n",
    "print('BtB close to I?', A.allclose(B))\n",
    "print('Eigenvalues of BTB:', A.eigenvalues(B))\n",
    "print('Determinant of BTB:', A.determinant(B))"
   ]
  },
  {
   "cell_type": "markdown",
   "metadata": {},
   "source": [
    "# Task 4"
   ]
  },
  {
   "cell_type": "code",
   "execution_count": 4,
   "metadata": {
    "collapsed": false
   },
   "outputs": [
    {
     "name": "stdout",
     "output_type": "stream",
     "text": [
      "Random matrix [[ 0.14994376  0.88803281  0.13777488  0.0172822 ]\n",
      " [ 0.35435615  0.95555843  0.29265608  0.99472686]\n",
      " [ 0.36370066  0.51623014  0.04007999  0.90081203]\n",
      " [ 0.66516379  0.74622762  0.9971199   0.48996343]]\n",
      "Triangular matrix: [[ -8.50160247e-01  -1.35960229e+00  -9.43572859e-01  -1.18637728e+00]\n",
      " [  1.01623213e-17  -8.22511411e-01   1.41172891e-01  -2.23116783e-01]\n",
      " [ -2.57641611e-17  -1.93304279e-17   4.36147315e-01  -6.18563063e-01]\n",
      " [  1.81857214e-18   8.09918660e-17   1.38777878e-17  -4.48792014e-01]]\n",
      "Q@R: [[ 0.14994376  0.88803281  0.13777488  0.0172822 ]\n",
      " [ 0.35435615  0.95555843  0.29265608  0.99472686]\n",
      " [ 0.36370066  0.51623014  0.04007999  0.90081203]\n",
      " [ 0.66516379  0.74622762  0.9971199   0.48996343]]\n",
      "Norm of Q: 1.0\n",
      "Deviation of QTQ from I: 7.11482023488e-16\n",
      "QTQ allclose to I? True\n",
      "Eigenvalues of QTQ: [ 1.+0.j  1.+0.j  1.+0.j  1.+0.j]\n",
      "Determinant of QTQ: 1.0000000000000013\n"
     ]
    }
   ],
   "source": [
    "from numpy import *\n",
    "from scipy.linalg import *\n",
    "\n",
    "\n",
    "class Orthogonalization():\n",
    "    \"\"\"\n",
    "    A class of matrices with methods that orthogonalize the objects with\n",
    "    different algorithms and that evaluate the result in different ways.\n",
    "    \"\"\"\n",
    "    \n",
    "    def __init__(self, givenmatrix):\n",
    "        self.givenmatrix = givenmatrix\n",
    "        \n",
    "    def householder(self):\n",
    "        \"\"\"\n",
    "        Will not work with a already triangular matrix (:\n",
    "        \"\"\"\n",
    "        A = self.givenmatrix\n",
    "        m = shape(A)[0]\n",
    "        n = shape(A)[1]\n",
    "        Q = identity(m)\n",
    "        for i in range(n):\n",
    "            Q_i = identity(m)\n",
    "            x = A[i:m,i] \n",
    "            s = int(sign(x[0]))\n",
    "            u = s*array([norm(x)]+(m-i-1)*[0.]) \n",
    "            v_i = x + u\n",
    "            v_i /= norm(v_i)\n",
    "            Q_i_hat = eye(m-i) - 2*outer(v_i,v_i)\n",
    "            Q_i[i:m,i:m] = Q_i_hat\n",
    "            Q = Q_i@Q\n",
    "            A = Q_i@A\n",
    "        return Q.T, A #the construction gives \"Q.T\" not the Q we searched\n",
    "    \n",
    "    def norm(self, matrix):\n",
    "        \"\"\"\n",
    "        Returns the 2-norm of a the input matrix A.\n",
    "        \"\"\"\n",
    "        return np.linalg.norm(matrix, ord=2)\n",
    "        \n",
    "        \n",
    "    def qtq(self, matrix):\n",
    "        \"\"\"\n",
    "        Returns the matrix product of the transpose of the input matrix A with\n",
    "        itself.\n",
    "        \"\"\"\n",
    "        return np.dot(matrix.transpose(),matrix)\n",
    "        \n",
    "    def deviation(self, matrix):\n",
    "        \"\"\"\n",
    "        Returns the deviation of the output matrix of qtq from the identity \n",
    "        matrix.\n",
    "        \"\"\"\n",
    "        qtq = self.qtq(matrix)\n",
    "        I = np.identity(len(qtq))\n",
    "        return self.norm(I-qtq)\n",
    "        \n",
    "    def allclose(self, matrix):\n",
    "        \"\"\"\n",
    "        Returns True/False if all the entries of QTQ are closer than a \n",
    "        certain tolerance to the identity matrix.\n",
    "        \"\"\"\n",
    "        qtq = self.qtq(matrix)\n",
    "        I = np.identity(len(qtq))\n",
    "        return np.allclose(qtq, I)\n",
    "        \n",
    "    def eigenvalues(self, matrix):\n",
    "        \"\"\"\n",
    "        Returns an array with the eigenvalues of qtq of the input matrix A.\n",
    "        \"\"\"\n",
    "        return la.eigvals(self.qtq(matrix))\n",
    "    \n",
    "    def determinant(self, matrix):\n",
    "        \"\"\"\n",
    "        Returns the determinant of qtq of the input matrix A.\n",
    "        \"\"\"\n",
    "        return la.det(self.qtq(matrix))\n",
    "\n",
    "A0 = np.random.rand(4,4)\n",
    "print('Random matrix', A0)\n",
    "A = Orthogonalization(A0)\n",
    "\n",
    "Q,R = A.householder()\n",
    "print('Triangular matrix:', R)\n",
    "print('Q@R:', Q@R)\n",
    "print('Norm of Q:', A.norm(Q))\n",
    "print('Deviation of QTQ from I:', A.deviation(Q))\n",
    "print('QTQ allclose to I?', A.allclose(Q))\n",
    "print('Eigenvalues of QTQ:', A.eigenvalues(Q))\n",
    "print('Determinant of QTQ:', A.determinant(Q))"
   ]
  },
  {
   "cell_type": "markdown",
   "metadata": {},
   "source": [
    "# Task 5"
   ]
  },
  {
   "cell_type": "code",
   "execution_count": 6,
   "metadata": {
    "collapsed": false
   },
   "outputs": [
    {
     "name": "stdout",
     "output_type": "stream",
     "text": [
      "Random matrix [[ 0.29847214  0.18381257  0.63260693  0.32095855]\n",
      " [ 0.88355969  0.39749837  0.75586749  0.6847201 ]\n",
      " [ 0.19932305  0.89078701  0.7322677   0.60840769]\n",
      " [ 0.40702311  0.98530837  0.49158964  0.22882183]]\n",
      "Triangular matrix: [[  1.00657856e+00   6.92356020e-01   1.06020604e+00   8.34155453e-01]\n",
      " [  2.36826001e-01   1.21522238e+00   6.73711987e-01   4.28662736e-01]\n",
      " [ -5.79990806e-02   1.56781637e-03   4.14100066e-01   2.54600627e-01]\n",
      " [  5.00997177e-02   1.15930078e-03   0.00000000e+00  -2.23577317e-01]]\n",
      "q@r: [[ 0.29847214  0.18381257  0.63260693  0.32095855]\n",
      " [ 0.88355969  0.39749837  0.75586749  0.6847201 ]\n",
      " [ 0.19932305  0.89078701  0.7322677   0.60840769]\n",
      " [ 0.40702311  0.98530837  0.49158964  0.22882183]]\n",
      "Norm: 1.0\n",
      "Deviation from I of qtq: 2.88912903322e-16\n",
      "Qtq allclose to I? True\n",
      "Eigenvalues of qtq: [ 1.+0.j  1.+0.j  1.+0.j  1.+0.j]\n",
      "Determinant of qtq: 0.9999999999999997\n"
     ]
    }
   ],
   "source": [
    "class Orthogonalization():\n",
    "    \"\"\"\n",
    "    A class of matrices with methods that orthogonalize the objects with\n",
    "    different algorithms and that evaluate the result in different ways.\n",
    "    \"\"\"\n",
    "    \n",
    "    def __init__(self, givenmatrix):\n",
    "        self.givenmatrix = givenmatrix\n",
    "        \n",
    "    def givens(self):\n",
    "        \"\"\"\n",
    "        Takes a (mxn)-matrix with m≥n and returns its QR-factorization as the\n",
    "        two matrices Q, A, by using Givens rotations.\n",
    "        \"\"\"\n",
    "        A = self.givenmatrix\n",
    "        m = shape(A)[0]\n",
    "        n = shape(A)[1]\n",
    "        Q = identity(m)\n",
    "        for i in range(n): #counting through the columns of the matrix\n",
    "            Q_i = identity(m)\n",
    "            x = A[i:m,i]\n",
    "            l = len(x)\n",
    "            Q_i_hat = identity(l)\n",
    "            for j in range(l-1):\n",
    "                J_j = identity(l) #rotation matrix to be\n",
    "                a = x[l-(j+2)]\n",
    "                b = x[l-(j+1)]\n",
    "                r = sqrt(a**2+b**2)\n",
    "                c = a/r\n",
    "                s = -b/r\n",
    "                rotation = array([[c, -s], [s, c]])\n",
    "                J_j[l-2-j:l-j, l-2-j:l-j] = rotation #rotation matrix in the \n",
    "                                                    #(n-(i-1), n-i)-plane\n",
    "                \n",
    "                Q_i_hat = J_j@Q_i_hat #matrix for all the rotations of one vector\n",
    "            Q_i[i:m,i:m] = Q_i_hat\n",
    "            Q = Q_i@Q\n",
    "            A = Q_i@A\n",
    "        return Q.T, A\n",
    "        \n",
    "    def norm(self, matrix):\n",
    "        \"\"\"\n",
    "        Returns the 2-norm of a the input matrix A.\n",
    "        \"\"\"\n",
    "        return np.linalg.norm(matrix, ord=2)\n",
    "        \n",
    "        \n",
    "    def qtq(self, matrix):\n",
    "        \"\"\"\n",
    "        Returns the matrix product of the transpose of the input matrix A with\n",
    "        itself.\n",
    "        \"\"\"\n",
    "        return np.dot(matrix.transpose(),matrix)\n",
    "        \n",
    "    def deviation(self, matrix):\n",
    "        \"\"\"\n",
    "        Returns the deviation of the output matrix of qtq from the identity \n",
    "        matrix.\n",
    "        \"\"\"\n",
    "        qtq = self.qtq(matrix)\n",
    "        I = np.identity(len(qtq))\n",
    "        return self.norm(I-qtq)\n",
    "        \n",
    "    def allclose(self, matrix):\n",
    "        \"\"\"\n",
    "        Returns True/False if all the entries of QTQ are closer than a \n",
    "        certain tolerance to the identity matrix.\n",
    "        \"\"\"\n",
    "        qtq = self.qtq(matrix)\n",
    "        I = np.identity(len(qtq))\n",
    "        return np.allclose(qtq, I)\n",
    "        \n",
    "    def eigenvalues(self, matrix):\n",
    "        \"\"\"\n",
    "        Returns an array with the eigenvalues of qtq of the input matrix A.\n",
    "        \"\"\"\n",
    "        return la.eigvals(self.qtq(matrix))\n",
    "    \n",
    "    def determinant(self, matrix):\n",
    "        \"\"\"\n",
    "        Returns the determinant of qtq of the input matrix A.\n",
    "        \"\"\"\n",
    "        return la.det(self.qtq(matrix))\n",
    "\n",
    "A0 = np.random.rand(4,4)\n",
    "print('Random matrix', A0)\n",
    "A = Orthogonalization(A0)\n",
    "\n",
    "q,r = A.givens()\n",
    "print('Triangular matrix:', r)\n",
    "print('q@r:',q@r)\n",
    "print('Norm:', A.norm(q))\n",
    "print('Deviation from I of qtq:', A.deviation(q))\n",
    "print('Qtq allclose to I?', A.allclose(q))\n",
    "print('Eigenvalues of qtq:', A.eigenvalues(q))\n",
    "print('Determinant of qtq:', A.determinant(q))"
   ]
  }
 ],
 "metadata": {
  "anaconda-cloud": {},
  "kernelspec": {
   "display_name": "Python 3",
   "language": "python",
   "name": "python3"
  },
  "language_info": {
   "codemirror_mode": {
    "name": "ipython",
    "version": 3
   },
   "file_extension": ".py",
   "mimetype": "text/x-python",
   "name": "python",
   "nbconvert_exporter": "python",
   "pygments_lexer": "ipython3",
   "version": "3.5.4"
  },
  "toc": {
   "nav_menu": {},
   "number_sections": true,
   "sideBar": true,
   "skip_h1_title": false,
   "toc_cell": false,
   "toc_position": {},
   "toc_section_display": "block",
   "toc_window_display": false
  },
  "varInspector": {
   "cols": {
    "lenName": 16,
    "lenType": 16,
    "lenVar": 40
   },
   "kernels_config": {
    "python": {
     "delete_cmd_postfix": "",
     "delete_cmd_prefix": "del ",
     "library": "var_list.py",
     "varRefreshCmd": "print(var_dic_list())"
    },
    "r": {
     "delete_cmd_postfix": ") ",
     "delete_cmd_prefix": "rm(",
     "library": "var_list.r",
     "varRefreshCmd": "cat(var_dic_list()) "
    }
   },
   "types_to_exclude": [
    "module",
    "function",
    "builtin_function_or_method",
    "instance",
    "_Feature"
   ],
   "window_display": false
  }
 },
 "nbformat": 4,
 "nbformat_minor": 0
}
