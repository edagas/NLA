{
 "cells": [
  {
   "cell_type": "markdown",
   "metadata": {},
   "source": [
    "# Task 2"
   ]
  },
  {
   "cell_type": "markdown",
   "metadata": {},
   "source": [
    "For the problem $A \\mapsto A^{-1}b$, with a given matrix $A$ and b as input, we have that the condition number \n",
    "\n",
    "$$\n",
    "\\frac{||\\delta x||}{||x||}\\frac{||b||}{||\\delta b||} ≤ \\kappa(A) = ||A||||A^{-1}|| = \\frac{\\sigma_{n}}{\\sigma_{1}}\n",
    "$$\n",
    "\n",
    "when the norm is the 2-norm. Then, if we choose $b=u_{1}$, where $u_{1}$ is the left singular vector corresponding to the greatest singular value $\\sigma_{1}$ in te SVD-decomposition of A,\n",
    "\n",
    "$$\n",
    "x = A^{-1}b = V \\Sigma^{-1} U^{T} u_{1} = V \\Sigma^{-1}\n",
    "\\begin{bmatrix}\n",
    "    u_{1}^{T}    \\\\\n",
    "    \\vdots       \\\\\n",
    "    u_{n}^{T}             \n",
    "\\end{bmatrix} u_{1} = V \n",
    "\\begin{bmatrix}\n",
    "    \\frac{1}{\\sigma_{1}} & \\ldots  & 0  \\\\\n",
    "    \\vdots & \\ddots & \\vdots      \\\\\n",
    "    0 & \\ldots & \\frac{1}{\\sigma_{n}}           \n",
    "\\end{bmatrix} \n",
    "\\begin{bmatrix}\n",
    "    1    \\\\\n",
    "    0    \\\\\n",
    "    \\vdots       \\\\\n",
    "    0             \n",
    "\\end{bmatrix} =\n",
    "\\begin{bmatrix}\n",
    "    v_{1} & \\ldots & v_{n}             \n",
    "\\end{bmatrix}\n",
    "\\begin{bmatrix}\n",
    "    \\frac{1}{\\sigma_{1}} \\\\\n",
    "    0 \\\\\n",
    "    \\vdots       \\\\\n",
    "    0             \n",
    "\\end{bmatrix} = \\frac{v_{1}}{\\sigma_{1}},\n",
    "$$\n",
    "\n",
    "\n",
    "where $v_{1}$ is the corresponding right singular vector. \n",
    "Then\n",
    "\n",
    "$$\n",
    "\\frac{||b||}{||x||} = \\frac{||u_{1}||}{||\\frac{1}{\\sigma_{1}}v_{1}||}=\\sigma_{1}.\n",
    "$$\n",
    "\n",
    "Similarily, with the choice $\\delta b = u_{n}$ – the left singular vector associated with the smallest singular value $\\sigma_{n}$, \n",
    "\n",
    "$$\n",
    "\\frac{||\\delta b||}{||\\delta x||} = \\frac{||\\frac{v_{1}}{\\sigma_{n}}||}{||u_{n}||}=\\frac{1}{\\sigma_{n}}.\n",
    "$$\n",
    "\n",
    "Finally\n",
    "\n",
    "$$\n",
    "\\frac{||\\delta x||}{||x||}\\frac{||b||}{||\\delta b||} = \\frac{\\sigma_{1}}{\\sigma_{n}} = ||A||||A^{-1}||, \n",
    "$$\n",
    "\n",
    "and the equality holds."
   ]
  },
  {
   "cell_type": "markdown",
   "metadata": {},
   "source": [
    "# Task 3"
   ]
  },
  {
   "cell_type": "markdown",
   "metadata": {},
   "source": [
    "We constructed the Hilbert matrix H of dimension 50 and its inverse in python. The condition number of the matrix we determined to\n",
    "\n",
    "$$\n",
    "\\kappa(H) = ||H||||H^{-1}|| = 1.42\\cdot 10^{74}.\n",
    "$$\n",
    "\n",
    "Our result of task 2 suggests that we should obtain this number by computing\n",
    "\n",
    "$$\n",
    "\\frac{||\\delta x||}{||x||}\\frac{||b||}{||\\delta b||},\n",
    "$$\n",
    "\n",
    "using c as the left singular vectors described in task 2. We can get these by SVD-decomposing H,\n",
    "\n",
    "$$\n",
    "H = U \\Sigma V^{T},\n",
    "$$\n",
    "\n",
    "and taking $u_{1}, u_{n}$ from the matrix U. This works well for small dimensions (up to 10), so that the equality from task 2 holds. However for larger dimensions (and specifically for n=50), the condition number is smaller than $||H||||H^{-1}||$, for n=50: \n",
    "\n",
    "$$\n",
    "\\frac{||\\delta x||}{||x||}\\frac{||b||}{||\\delta b||} = 1.74 \\cdot 10^{16}.\n",
    "$$"
   ]
  },
  {
   "cell_type": "markdown",
   "metadata": {},
   "source": [
    "We cannot explain why we dont obtain the equality, but we suspect it can have to do with the properties of H (since it is very ill conditioned small numerical perturbations affects gravely the solution?). In particular since it works for lower dimensions we dont suspect an error in our implementation."
   ]
  },
  {
   "cell_type": "markdown",
   "metadata": {},
   "source": [
    "We tried to put in other vectors for $b, \\delta b$ and saw that we never suceeded to get a larger condition number for this problem, which motivates that the choice was the good one."
   ]
  }
 ],
 "metadata": {
  "kernelspec": {
   "display_name": "Python 3",
   "language": "python",
   "name": "python3"
  },
  "language_info": {
   "codemirror_mode": {
    "name": "ipython",
    "version": 3
   },
   "file_extension": ".py",
   "mimetype": "text/x-python",
   "name": "python",
   "nbconvert_exporter": "python",
   "pygments_lexer": "ipython3",
   "version": "3.5.4"
  }
 },
 "nbformat": 4,
 "nbformat_minor": 0
}
