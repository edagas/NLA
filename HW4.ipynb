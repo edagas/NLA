{
 "cells": [
  {
   "cell_type": "markdown",
   "metadata": {},
   "source": [
    "# Task 1"
   ]
  },
  {
   "cell_type": "markdown",
   "metadata": {},
   "source": [
    "Since A is positive definite, we have by definition:\n",
    "\n",
    "$$\n",
    "x^{T}Ax = \\begin{pmatrix}\n",
    "x_{1}& \\cdots &x_{n} \n",
    "\\end{pmatrix}\n",
    "\\begin{pmatrix}\n",
    "a_{11} & w^{T} \\\\\n",
    "w & A_{1}\n",
    "\\end{pmatrix}\n",
    "\\begin{pmatrix}\n",
    "x_{1} \\\\\n",
    "\\vdots \\\\\n",
    "x_{n}\n",
    "\\end{pmatrix}\n",
    "≥0, \\forall x, \n",
    "$$\n",
    "with equality iff x=(0,...,0). \n",
    "\n",
    "Thus we can choose a vector x of the form $x=(x_{1},0,...,0)$, for which we get\n",
    "\n",
    "$$\n",
    "x^{T}Ax=x_{1}^2 \\cdot a_{11} > 0 \\implies a_{11}>0.\n",
    "$$\n",
    "\n",
    "To be convinced of the positive definitivity of the submatrix $A_{1}$, we can analogously consider another choice of a vector x, namely $x=(0,x_{2}, \\cdots, x_{n})$. In the matrix multiplication $x^{T}Ax$ the zero touch the first row of A and also its first column. Thus\n",
    "\n",
    "$$\n",
    "x^{T}Ax = y^{T}A_{1}y,\n",
    "$$\n",
    "\n",
    "where $y=(x_{2}, \\cdots, x_{n})$ contains the n-1 last elements of x. It follows that $A_1$ is positive definite since A is."
   ]
  }
 ],
 "metadata": {
  "kernelspec": {
   "display_name": "Python 3",
   "language": "python",
   "name": "python3"
  },
  "language_info": {
   "codemirror_mode": {
    "name": "ipython",
    "version": 3
   },
   "file_extension": ".py",
   "mimetype": "text/x-python",
   "name": "python",
   "nbconvert_exporter": "python",
   "pygments_lexer": "ipython3",
   "version": "3.5.4"
  }
 },
 "nbformat": 4,
 "nbformat_minor": 0
}
