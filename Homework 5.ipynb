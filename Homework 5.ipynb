{
 "cells": [
  {
   "cell_type": "markdown",
   "metadata": {},
   "source": [
    "# Task 1"
   ]
  },
  {
   "cell_type": "markdown",
   "metadata": {
    "collapsed": true
   },
   "source": [
    "We implemented the QR algorithm with Rayleigh shifts and deflations, as indicated (see Appendix for the code).\n",
    "For the Rayleigh shift we chose (as suggested in litterature) the last diagonal element of the matrix A (and of the submatrix due to the deflation). In fact, when trying the another element, the algorithm doesn't converge as well (sometimes not at all after 1000 iterations). \n",
    "\n",
    "We handled the deflation in the following way: once the off-diagonal elements adjacent to the last diagonal element were close to zero (smaller than 1.e-8 in absolute value), we considered an an eigenvalue as found, namely the diagonal element. We saved it, set the off-diagonal elements to 0, and repeated the iterations, but with the submatrix without the last row and column.\n",
    "\n",
    "The algorithm works mostly well for dimensions at least up to 50. Then it converges for around 100 iterations. For n=5 it converges for around 10 iterations. It happens sometimes (more often for larger dimensions) that it does not converge (well or at all). This could be caused by the eigenvalues of the matrix, if they are close to each other.\n",
    "\n",
    "To be able to start the algortihm with a tridiagonal matrix, we wrote a method for the Householder reduction to a Hessenberg matrix (tridiagonal for a symmetric matrix A).\n",
    "\n",
    "Something seems to happen to the matrix the first iterations, before any eigenvalue is found. The first diagonal element becomes big and does not change much while all the other values are found. But this value is not the last eigenvalue, whereas the algorithm should give that. So instead we take the diagonal element of the tridiagonal matrix we started out with as the last eigenvalue, when all the others are found (and this corresponds well)."
   ]
  },
  {
   "cell_type": "markdown",
   "metadata": {},
   "source": [
    "# Task 2"
   ]
  },
  {
   "cell_type": "markdown",
   "metadata": {},
   "source": [
    "To proof that (A-$\\lambda$I) has rank at least m-1 if A$\\in$ R$^{m x m}$ we can use that A is a tridiagonal and symmetric matrix with all its sub- and superdiagonal entries nonzero.\n",
    "What we can use for the proof is that we know: a matrix has always rank greater or equal than it's submatrices. If we take the submatrix of our tridiagonal submatrix we will get a matrix with full rank (m-1), because if we take the submatrix S by deleting the first row and the last column: \n",
    "A = $\\begin{pmatrix}\n",
    "d_{1} & c_{1} & 0 &... & 0 \\\\\n",
    "a_{1} & d_{2} & c_{2} & \\ddots &\\vdots \\\\\n",
    "    0 & a_{2}&    d_{3}   &   \\ddots       &0 \\\\\n",
    "\\vdots & \\ddots & \\ddots& \\ddots   & c_{m-1} \\\\\n",
    "0 & \\dots & 0& a_{m-1} & d_{m}\n",
    "\\end{pmatrix}$\n",
    "\n",
    "\n",
    "it will look like this: \n",
    " S= $\\begin{pmatrix}\n",
    "a_{1} & d_{2} & c_{2} & 0\\\\\n",
    "     & a_{2}&    d_{3}   &  c_{m-2}\\\\\n",
    "    & & \\ddots & d_{m-1}\\\\\n",
    "0 &  & & a_{m-1}   \n",
    "\\end{pmatrix}$\n",
    "\n",
    "This is a upper triangular matrix where we already know that all diagonal entries are nonzero. Thus the matrix has full rank. \n",
    "But we also know that the (A-$\\lambda$I) can't have full rank because this is the condition that $\\lambda$ is an eigenvalue of A. With this we can say for sure A-$\\lambda$I has the rank m-1 for each eigenvalue. If this applies for all eigenvalues they should all be distinct otherwise the matrix A-$\\lambda$I wouldn't have rank m-1 for each eigenvalue.  "
   ]
  },
  {
   "cell_type": "markdown",
   "metadata": {},
   "source": [
    "# Task 3"
   ]
  },
  {
   "cell_type": "markdown",
   "metadata": {},
   "source": [
    "With the help of the bisection algorithm we can find eigenvalues of a tridiagonal matrix in a certain interval (in our case). The bisection method can find the roots of an function very easy. \n",
    "\n",
    "With help of task 2 we already know that a tridiagonal matrix has only distinct eigenvalues. And we can take advantage of the property that the eigenvalues of $A^{k}$ interlace with the eigenvalues of $A^{k+1}$. $A^{k}$ are the submatrices with k= 1,2,...m of the tridiagonal matrix A(mxm). With this fact we can count the number of eigenvalues which are smaller than a. If we do this also for another value b and subtract a from b, then we know how many eigenvalues are in the interval [a,b). Thus we can find with the bisection method the roots of the characteristic polynom in the interval [a,b). \n",
    "\n",
    "The algorithm is attached. "
   ]
  },
  {
   "cell_type": "markdown",
   "metadata": {},
   "source": [
    "# Appendix"
   ]
  },
  {
   "cell_type": "markdown",
   "metadata": {},
   "source": [
    "## Task 1 – code"
   ]
  },
  {
   "cell_type": "code",
   "execution_count": 1,
   "metadata": {
    "collapsed": true
   },
   "outputs": [],
   "source": [
    "from scipy import *\n",
    "from pylab import *\n",
    "import sys\n",
    "\n",
    "def hessenberg(A):\n",
    "    \"\"\"\n",
    "    Reduces a matrix A to Hessenberg form. If A is hermitian (symmetric), \n",
    "    the Hessenberg form will be tridiagonal.\n",
    "    \"\"\"\n",
    "    m = shape(A)[0]\n",
    "    for k in range(m-2):    #Householder reflection\n",
    "        x = A[k+1:, k]\n",
    "        v_k = sign(x[0])*array([norm(x, 2)]+(len(x)-1)*[0.]) + x      \n",
    "        v_k = v_k/norm(v_k, 2)\n",
    "        b = dot(v_k,A[k+1:,k:])\n",
    "        A[k+1:,k:] -= 2*outer(v_k,b)\n",
    "        c = dot(A[0:,k+1:],v_k.T)\n",
    "        A[0:,k+1:] -= 2*outer(c,v_k)\n",
    "    #A[abs(A) < 1.e-15] = 0 #will it disturb anything?\n",
    "    return A\n",
    "    \n",
    "        \n",
    "\n",
    "def diag_qr(A):\n",
    "    '''\n",
    "    Diagonalizes a symmetric matrix A.\n",
    "    Returns the diagonal matrix, its diagonal (the eigenvalues of A)\n",
    "    and the number of iterates needed.\n",
    "    '''\n",
    "    A = hessenberg(A)\n",
    "    A_0 = A\n",
    "    n = shape(A_0)[0]\n",
    "    eigvals = zeros(n)\n",
    "    maxit = 1000\n",
    "    for i in range(maxit):\n",
    "        mu_i = A_0[n-1,n-1] #why this choice\n",
    "        q_i, r_i = qr(A_0-mu_i*eye(n))\n",
    "        A_0 = r_i@q_i + mu_i*eye(n)\n",
    "        if abs(A_0[n-1,n-2]) < 1.e-15:\n",
    "            eigvals[len(eigvals)-n] = A_0[n-1,n-1]\n",
    "            A_0[n-2,n-1] = 0\n",
    "            A_0[n-1,n-2] = 0\n",
    "            A[n-1,:n] = A_0[n-1,:n]\n",
    "            A[:n,n-1] = A_0[:n,n-1]        \n",
    "            A_0 = A_0[:n-1,:n-1]\n",
    "            n -= 1\n",
    "            if n == 1:\n",
    "                eigvals[len(eigvals)-1] = A[0,0] #it does not work with A_0[0,0], why?\n",
    "                break        \n",
    "    A[abs(A) < 1.e-15] = 0 #will it disturb anything?\n",
    "    return A, eigvals, i\n",
    "\n"
   ]
  },
  {
   "cell_type": "markdown",
   "metadata": {},
   "source": [
    "## Task 3"
   ]
  },
  {
   "cell_type": "code",
   "execution_count": 26,
   "metadata": {
    "ExecuteTime": {
     "end_time": "2017-10-09T12:55:35.190813Z",
     "start_time": "2017-10-09T12:55:35.134876Z"
    },
    "collapsed": false
   },
   "outputs": [],
   "source": [
    "import numpy as np\n",
    "import scipy.linalg as sl\n",
    "\n",
    "class bisection:\n",
    "    '''\n",
    "    \n",
    "    return: eigenvalues which are in the interval \n",
    "    '''\n",
    "    def __init__(self, A):\n",
    "        '''\n",
    "        Initialize the matrix \n",
    "        \n",
    "        :param A: tridiagonalzed matrix as an numpy array\n",
    "        '''\n",
    "        self.A = A\n",
    "    def eigenvalues(self, interval):\n",
    "        '''\n",
    "        Creates a list of eigenvalues depending on the interval which is given \n",
    "        \n",
    "        :param interval: tuple of two integers (integer 1 must be smaller than integer 2)\n",
    "        :return eig: list of all eigenvalues which are in the interval\n",
    "        '''\n",
    "        eig = []\n",
    "        right = interval[1]\n",
    "        left = interval[0]\n",
    "        num_of_eig = self.number_of_eigenvalues(right)[1] - self.number_of_eigenvalues(left)[1]\n",
    "        print(num_of_eig)\n",
    "        while num_of_eig > 0:\n",
    "            midpoint = (left+right)/2\n",
    "            num_of_midpoint = self.number_of_eigenvalues(midpoint)[1]\n",
    "            num_of_right = self.number_of_eigenvalues(right)[1]\n",
    "            while num_of_midpoint != num_of_right:\n",
    "                #print(midpoint)\n",
    "                left = midpoint\n",
    "                midpoint = (left+right)/2\n",
    "                num_of_midpoint = self.number_of_eigenvalues(midpoint)[1]\n",
    "            if abs(self.number_of_eigenvalues(midpoint)[0]) < 1.e-9:\n",
    "                eig.append(midpoint)\n",
    "                num_of_eig -= 1\n",
    "                right = left\n",
    "                left = interval[0]\n",
    "            else:   \n",
    "                right = midpoint\n",
    "        return eig\n",
    "    \n",
    "    def number_of_eigenvalues(self, x):\n",
    "        '''\n",
    "        counts the number of sign changes and delivers the solution of the \n",
    "        characteristic polynom function\n",
    "        \n",
    "        :param x: integer\n",
    "        return p_i, num:solution of the characteristic polynom for x , \n",
    "                        number of eigenvalues in the interval between -inf and x\n",
    "        '''\n",
    "        m = len(self.A)\n",
    "        num = 0\n",
    "        p_previous = self.A[0][0]-x\n",
    "        if p_previous < 0:\n",
    "                num += 1\n",
    "        p_beforeprevious = 1\n",
    "        for i in range(1,m):\n",
    "            p_i = (self.A[i][i]-x)*p_previous - self.A[i-1][i]**2*p_beforeprevious\n",
    "            if p_i > 0 and p_previous <= 0 or p_i < 0 and p_previous >= 0 :\n",
    "                num += 1\n",
    "            p_beforeprevious = p_previous\n",
    "            p_previous = p_i \n",
    "        return (p_i, num)"
   ]
  },
  {
   "cell_type": "code",
   "execution_count": 21,
   "metadata": {
    "ExecuteTime": {
     "end_time": "2017-10-09T12:54:14.470205Z",
     "start_time": "2017-10-09T12:54:14.464618Z"
    },
    "collapsed": false
   },
   "outputs": [
    {
     "name": "stdout",
     "output_type": "stream",
     "text": [
      "[[  1.28883871e+00  -2.12316534e+00  -1.33221459e-16   1.14291149e-16\n",
      "    2.79094981e-17]\n",
      " [ -2.12316534e+00   2.45608333e+00   2.26187766e+00   1.48004130e-16\n",
      "   -5.34569700e-16]\n",
      " [  0.00000000e+00   2.26187766e+00   1.78650249e+00  -9.45781694e-01\n",
      "   -6.22626018e-17]\n",
      " [  0.00000000e+00   0.00000000e+00  -9.45781694e-01  -8.36353820e-02\n",
      "    5.64818818e-03]\n",
      " [  0.00000000e+00   0.00000000e+00   0.00000000e+00   5.64818818e-03\n",
      "    9.67046104e-01]]\n"
     ]
    }
   ],
   "source": [
    "# Creates an random tridiagonal matrix\n",
    "A = np.random.rand(5,5)\n",
    "A = (np.transpose(A) + A)\n",
    "A = sl.hessenberg(A)\n",
    "print(A)"
   ]
  },
  {
   "cell_type": "code",
   "execution_count": 22,
   "metadata": {
    "ExecuteTime": {
     "end_time": "2017-10-09T12:54:15.854882Z",
     "start_time": "2017-10-09T12:54:15.846918Z"
    },
    "collapsed": false
   },
   "outputs": [
    {
     "data": {
      "text/plain": [
       "(array([ 5.19201163, -1.35248758, -0.15750991,  1.76575708,  0.96706404]),\n",
       " array([[  4.05423746e-01,   4.64903112e-01,   4.36305628e-01,\n",
       "          -6.55076780e-01,   2.91450679e-03],\n",
       "        [ -7.45320660e-01,   5.78363253e-01,   2.97221338e-01,\n",
       "           1.47147349e-01,   4.41705810e-04],\n",
       "        [ -5.20966393e-01,  -5.37461115e-01,   6.61102529e-02,\n",
       "          -6.59812870e-01,   2.44499136e-03],\n",
       "        [  9.33954037e-02,  -4.00619074e-01,   8.46704331e-01,\n",
       "           3.37436442e-01,   3.17473311e-03],\n",
       "        [  1.24856596e-04,   9.75528802e-04,  -4.25265200e-03,\n",
       "           2.38622553e-03,   9.99987627e-01]]))"
      ]
     },
     "execution_count": 22,
     "metadata": {},
     "output_type": "execute_result"
    }
   ],
   "source": [
    "# the eigenvalues of A and the eigenvectors \n",
    "np.linalg.eig(A)"
   ]
  },
  {
   "cell_type": "code",
   "execution_count": 27,
   "metadata": {
    "ExecuteTime": {
     "end_time": "2017-10-09T12:55:37.476376Z",
     "start_time": "2017-10-09T12:55:37.468357Z"
    },
    "collapsed": false
   },
   "outputs": [
    {
     "name": "stdout",
     "output_type": "stream",
     "text": [
      "4\n",
      "[1.765757078945171, 0.9670640355527409, -0.15750991461146854, -1.352487582895678]\n"
     ]
    }
   ],
   "source": [
    "# Test of the bisection method\n",
    "bis = bisection(A)\n",
    "print(bis.eigenvalues((-2,3)))"
   ]
  }
 ],
 "metadata": {
  "anaconda-cloud": {},
  "kernelspec": {
   "display_name": "Python [conda root]",
   "language": "python",
   "name": "conda-root-py"
  },
  "language_info": {
   "codemirror_mode": {
    "name": "ipython",
    "version": 3
   },
   "file_extension": ".py",
   "mimetype": "text/x-python",
   "name": "python",
   "nbconvert_exporter": "python",
   "pygments_lexer": "ipython3",
   "version": "3.5.2"
  },
  "toc": {
   "nav_menu": {},
   "number_sections": true,
   "sideBar": true,
   "skip_h1_title": false,
   "toc_cell": false,
   "toc_position": {},
   "toc_section_display": "block",
   "toc_window_display": false
  },
  "varInspector": {
   "cols": {
    "lenName": 16,
    "lenType": 16,
    "lenVar": 40
   },
   "kernels_config": {
    "python": {
     "delete_cmd_postfix": "",
     "delete_cmd_prefix": "del ",
     "library": "var_list.py",
     "varRefreshCmd": "print(var_dic_list())"
    },
    "r": {
     "delete_cmd_postfix": ") ",
     "delete_cmd_prefix": "rm(",
     "library": "var_list.r",
     "varRefreshCmd": "cat(var_dic_list()) "
    }
   },
   "types_to_exclude": [
    "module",
    "function",
    "builtin_function_or_method",
    "instance",
    "_Feature"
   ],
   "window_display": false
  }
 },
 "nbformat": 4,
 "nbformat_minor": 1
}
