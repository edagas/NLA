{
 "cells": [
  {
   "cell_type": "markdown",
   "metadata": {},
   "source": [
    "## Task 1\n"
   ]
  },
  {
   "cell_type": "code",
   "execution_count": 1,
   "metadata": {
    "ExecuteTime": {
     "end_time": "2017-09-20T16:53:02.633822Z",
     "start_time": "2017-09-20T16:52:59.714821Z"
    },
    "collapsed": false
   },
   "outputs": [],
   "source": [
    "import numpy as np\n",
    "import scipy.linalg as sl\n",
    "import csv\n",
    "import matplotlib.pyplot as plt"
   ]
  },
  {
   "cell_type": "code",
   "execution_count": 2,
   "metadata": {
    "ExecuteTime": {
     "end_time": "2017-09-20T16:53:10.216077Z",
     "start_time": "2017-09-20T16:53:03.578630Z"
    },
    "collapsed": false
   },
   "outputs": [
    {
     "name": "stdout",
     "output_type": "stream",
     "text": [
      "Which file name?\n",
      "---->  homework3.txt\n",
      "You get now two shape (80,) arrays \"t\" and \"v\" with data.\n"
     ]
    }
   ],
   "source": [
    "# import the text file and create two vectors v and t\n",
    "\n",
    "import os\n",
    "\n",
    "try:\n",
    "\tdatfilestr = input('Which file name?\\n---->  ')\n",
    "\tdatfile=open(datfilestr,'r')\n",
    "except FileNotFoundError:\n",
    "\ttxt=\"\"\"File {} not found in catalogue {}. \n",
    "\t    Make sure you downloaded the file from the course homepage\n",
    "\t    and you run this script in its catalogue.\n",
    "\t    \"\"\"\n",
    "\tprint(txt.format(datfilestr,os.path.abspath(os.curdir)))\n",
    "else:\n",
    "\tline = [ll.strip('\\n').split(',') for ll in datfile.readlines()]\n",
    "\tt,v=list(zip(*[(float(l[0]),float(l[1])) for l in line]))\n",
    "\tt=np.array(t)\n",
    "\tv=np.array(v)\n",
    "\tprint('You get now two shape {sh} arrays \"t\" and \"v\" with data.'.format(sh=t.shape))"
   ]
  },
  {
   "cell_type": "code",
   "execution_count": 3,
   "metadata": {
    "ExecuteTime": {
     "end_time": "2017-09-20T16:53:12.661092Z",
     "start_time": "2017-09-20T16:53:12.631987Z"
    },
    "collapsed": false
   },
   "outputs": [],
   "source": [
    "# blue points are the given diskret values \n",
    "# implement a code which uses the least square problem with 3 different \n",
    "class Least_square_methode():\n",
    "    def __init__(self, v, t):\n",
    "        self.v = v\n",
    "        self.t = t\n",
    "        self.A = np.empty((0,5), int)\n",
    "        for t_i in self.t: \n",
    "            self.A = np.vstack([self.A,[1, t_i, t_i**2, t_i**3, t_i**4]])\n",
    "    \n",
    "    def normal_eqaution(self): # red line\n",
    "        AT = np.transpose(self.A)\n",
    "        normal = sl.solve(np.dot(AT, self.A), np.dot(AT,v)) \n",
    "        return alpha\n",
    "    def qr_factorisation(self):\n",
    "        q,r = np.linalg.qr(self.A) # compute the reduced QR factorization\n",
    "        qT = np.transpose(q) # build the transpose because q isn't square\n",
    "        qv = np.dot(qT,v) \n",
    "        beta = sl.solve(r,qv) # solve the upper-triangular system R*x = QT*v  beta is the x vector we are searching for\n",
    "        return beta\n",
    "    def svd_decomposition(self):\n",
    "        u,s,d = np.linalg.svd(self.A) # computes the svd\n",
    "        u = np.linalg.inv(u)\n",
    "        uv = np.dot(u,self.v)\n",
    "        S = np.zeros((5, 80))\n",
    "        for i in range(5):\n",
    "            S[i,i] = 1/s[i]\n",
    "        w = np.dot(S,uv)\n",
    "        gamma = np.dot(np.linalg.inv(d),w)\n",
    "        return gamma"
   ]
  },
  {
   "cell_type": "code",
   "execution_count": 4,
   "metadata": {
    "ExecuteTime": {
     "end_time": "2017-09-20T16:53:18.743976Z",
     "start_time": "2017-09-20T16:53:18.362584Z"
    },
    "collapsed": false
   },
   "outputs": [
    {
     "ename": "NameError",
     "evalue": "name 'alpha' is not defined",
     "output_type": "error",
     "traceback": [
      "\u001b[0;31m---------------------------------------------------------------------------\u001b[0m",
      "\u001b[0;31mNameError\u001b[0m                                 Traceback (most recent call last)",
      "\u001b[0;32m<ipython-input-4-defaec92367c>\u001b[0m in \u001b[0;36m<module>\u001b[0;34m()\u001b[0m\n\u001b[1;32m      1\u001b[0m \u001b[0mA\u001b[0m \u001b[0;34m=\u001b[0m \u001b[0mLeast_square_methode\u001b[0m\u001b[0;34m(\u001b[0m\u001b[0mv\u001b[0m\u001b[0;34m,\u001b[0m\u001b[0mt\u001b[0m\u001b[0;34m)\u001b[0m\u001b[0;34m\u001b[0m\u001b[0m\n\u001b[0;32m----> 2\u001b[0;31m \u001b[0mnormal\u001b[0m \u001b[0;34m=\u001b[0m \u001b[0mA\u001b[0m\u001b[0;34m.\u001b[0m\u001b[0mnormal_eqaution\u001b[0m\u001b[0;34m(\u001b[0m\u001b[0;34m)\u001b[0m\u001b[0;34m\u001b[0m\u001b[0m\n\u001b[0m",
      "\u001b[0;32m<ipython-input-3-292f1a972e00>\u001b[0m in \u001b[0;36mnormal_eqaution\u001b[0;34m(self)\u001b[0m\n\u001b[1;32m     12\u001b[0m         \u001b[0mAT\u001b[0m \u001b[0;34m=\u001b[0m \u001b[0mnp\u001b[0m\u001b[0;34m.\u001b[0m\u001b[0mtranspose\u001b[0m\u001b[0;34m(\u001b[0m\u001b[0mself\u001b[0m\u001b[0;34m.\u001b[0m\u001b[0mA\u001b[0m\u001b[0;34m)\u001b[0m\u001b[0;34m\u001b[0m\u001b[0m\n\u001b[1;32m     13\u001b[0m         \u001b[0mnormal\u001b[0m \u001b[0;34m=\u001b[0m \u001b[0msl\u001b[0m\u001b[0;34m.\u001b[0m\u001b[0msolve\u001b[0m\u001b[0;34m(\u001b[0m\u001b[0mnp\u001b[0m\u001b[0;34m.\u001b[0m\u001b[0mdot\u001b[0m\u001b[0;34m(\u001b[0m\u001b[0mAT\u001b[0m\u001b[0;34m,\u001b[0m \u001b[0mself\u001b[0m\u001b[0;34m.\u001b[0m\u001b[0mA\u001b[0m\u001b[0;34m)\u001b[0m\u001b[0;34m,\u001b[0m \u001b[0mnp\u001b[0m\u001b[0;34m.\u001b[0m\u001b[0mdot\u001b[0m\u001b[0;34m(\u001b[0m\u001b[0mAT\u001b[0m\u001b[0;34m,\u001b[0m\u001b[0mv\u001b[0m\u001b[0;34m)\u001b[0m\u001b[0;34m)\u001b[0m\u001b[0;34m\u001b[0m\u001b[0m\n\u001b[0;32m---> 14\u001b[0;31m         \u001b[0;32mreturn\u001b[0m \u001b[0malpha\u001b[0m\u001b[0;34m\u001b[0m\u001b[0m\n\u001b[0m\u001b[1;32m     15\u001b[0m     \u001b[0;32mdef\u001b[0m \u001b[0mqr_factorisation\u001b[0m\u001b[0;34m(\u001b[0m\u001b[0mself\u001b[0m\u001b[0;34m)\u001b[0m\u001b[0;34m:\u001b[0m\u001b[0;34m\u001b[0m\u001b[0m\n\u001b[1;32m     16\u001b[0m         \u001b[0mq\u001b[0m\u001b[0;34m,\u001b[0m\u001b[0mr\u001b[0m \u001b[0;34m=\u001b[0m \u001b[0mnp\u001b[0m\u001b[0;34m.\u001b[0m\u001b[0mlinalg\u001b[0m\u001b[0;34m.\u001b[0m\u001b[0mqr\u001b[0m\u001b[0;34m(\u001b[0m\u001b[0mself\u001b[0m\u001b[0;34m.\u001b[0m\u001b[0mA\u001b[0m\u001b[0;34m)\u001b[0m \u001b[0;31m# compute the reduced QR factorization\u001b[0m\u001b[0;34m\u001b[0m\u001b[0m\n",
      "\u001b[0;31mNameError\u001b[0m: name 'alpha' is not defined"
     ]
    }
   ],
   "source": [
    "A = Least_square_methode(v,t)\n",
    "normal = A.normal_eqaution()"
   ]
  },
  {
   "cell_type": "code",
   "execution_count": 5,
   "metadata": {
    "ExecuteTime": {
     "end_time": "2017-09-20T16:53:21.296211Z",
     "start_time": "2017-09-20T16:53:21.281179Z"
    },
    "collapsed": true
   },
   "outputs": [],
   "source": [
    "A = Least_square_methode(v,t)\n",
    "qr = A.qr_factorisation()"
   ]
  },
  {
   "cell_type": "code",
   "execution_count": 5,
   "metadata": {
    "ExecuteTime": {
     "end_time": "2017-09-20T16:52:44.659458Z",
     "start_time": "2017-09-20T16:52:44.499644Z"
    },
    "collapsed": false
   },
   "outputs": [],
   "source": [
    "A = Least_square_methode(v,t)\n",
    "svd = A.svd_decomposition()"
   ]
  },
  {
   "cell_type": "code",
   "execution_count": null,
   "metadata": {
    "collapsed": true
   },
   "outputs": [],
   "source": [
    "def normal_eqaution(A): # red line\n",
    "        AT = np.transpose(self.A)\n",
    "        normal = sl.solve(np.dot(AT, self.A), np.dot(AT,v)) \n",
    "        return alpha"
   ]
  },
  {
   "cell_type": "code",
   "execution_count": null,
   "metadata": {
    "collapsed": true
   },
   "outputs": [],
   "source": []
  },
  {
   "cell_type": "markdown",
   "metadata": {},
   "source": [
    "computing the A needs for all the same time"
   ]
  },
  {
   "cell_type": "code",
   "execution_count": 231,
   "metadata": {
    "ExecuteTime": {
     "end_time": "2017-09-20T12:52:59.450867Z",
     "start_time": "2017-09-20T12:52:59.218531Z"
    },
    "collapsed": false
   },
   "outputs": [
    {
     "name": "stdout",
     "output_type": "stream",
     "text": [
      "[  3.99977426e+00  -1.53545581e-03   3.00267362e+00   1.99819673e+00\n",
      "   1.00040411e+00]\n",
      "[  3.99977426e+00  -1.53545576e-03   3.00267362e+00   1.99819673e+00\n",
      "   1.00040411e+00]\n",
      "[  3.99977426e+00  -1.53545576e-03   3.00267362e+00   1.99819673e+00\n",
      "   1.00040411e+00]\n"
     ]
    },
    {
     "data": {
      "image/png": "[encoded data removed]",
      "text/plain": [
       "<matplotlib.figure.Figure at 0x10edc1d68>"
      ]
     },
     "metadata": {},
     "output_type": "display_data"
    }
   ],
   "source": [
    "A = Least_square_methode(v,t)\n",
    "normal = A.normal_eqaution()\n",
    "print(normal)\n",
    "qr = A.qr_factorisation()\n",
    "print(qr)\n",
    "svd = A.svd_decomposition()\n",
    "print(svd)\n",
    "g = np.arange(0,2,0.01)\n",
    "plt.plot(g, ((svd[0]+svd[1]*g+svd[2]*g**2+svd[3]*g**3+svd[4]*g**4)),'r-', t,v,'.', g, ((qr[0]+qr[1]*g+qr[2]*g**2+qr[3]*g**3+qr[4]*g**4)),'g-')\n",
    "plt.show()\n"
   ]
  },
  {
   "cell_type": "markdown",
   "metadata": {},
   "source": [
    "## Task\n"
   ]
  },
  {
   "cell_type": "markdown",
   "metadata": {
    "ExecuteTime": {
     "end_time": "2017-09-20T16:16:04.537137Z",
     "start_time": "2017-09-20T16:16:04.513096Z"
    }
   },
   "source": [
    "I implemented the unknown a_i with help of the three different ways. The a looks with the normal equation, the qr factorization and with the svd decomposition exactly the same : a= [  3.99977426e+00,  -1.53545576e-03 ,  3.00267362e+00,   1.99819673e+00, 1.00040411e+00]. If I plot the discrete values and the function it fits really well. \n",
    "\n",
    "\n",
    "To compare the execution time we can firstly note that we have to build A (the matrix with the function in it) for all methods. So this time doesn't matter. \n",
    "For the normal equation solution we need to transpose A, built two products of two matrices and solve one linear equation system.  (if i restart the kernel, it takes about 378ms for the execution)\n",
    "For the qr factorization we need the qr factorization command or compute it and we need also one transpose, one product and one solution of a linear equation system. (about 344ms)\n",
    "For the last solution, the svd decomposition, we need the svd decomposition, two inverse, three products and build the diagonal matrix with the diagonal entries from the svd decomposition. (123ms)\n",
    "It seems that the svd takes the most time because there are the most calculations. But even if i execute the program with the existing A and the stored solution the normal equation takes the most time (about 20ms). \n",
    "I think the execution time of the last method is so good, because we don't have to use the solve command. We can built the inverse of the diagonal matrix very easy so that we can use $x=A^{-1}*b$ to solve the linear equation. \n",
    "\n",
    "You can find the code in the attachment also with the plot.\n",
    "\n",
    "\n"
   ]
  }
 ],
 "metadata": {
  "anaconda-cloud": {},
  "kernelspec": {
   "display_name": "Python [conda root]",
   "language": "python",
   "name": "conda-root-py"
  },
  "toc": {
   "nav_menu": {},
   "number_sections": true,
   "sideBar": true,
   "skip_h1_title": false,
   "toc_cell": false,
   "toc_position": {},
   "toc_section_display": "block",
   "toc_window_display": false
  },
  "varInspector": {
   "cols": {
    "lenName": 16,
    "lenType": 16,
    "lenVar": 40
   },
   "kernels_config": {
    "python": {
     "delete_cmd_postfix": "",
     "delete_cmd_prefix": "del ",
     "library": "var_list.py",
     "varRefreshCmd": "print(var_dic_list())"
    },
    "r": {
     "delete_cmd_postfix": ") ",
     "delete_cmd_prefix": "rm(",
     "library": "var_list.r",
     "varRefreshCmd": "cat(var_dic_list()) "
    }
   },
   "types_to_exclude": [
    "module",
    "function",
    "builtin_function_or_method",
    "instance",
    "_Feature"
   ],
   "window_display": false
  }
 },
 "nbformat": 4,
 "nbformat_minor": 1
}
