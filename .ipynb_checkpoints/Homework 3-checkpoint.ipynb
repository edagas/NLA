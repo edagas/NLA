{
 "cells": [
  {
   "cell_type": "markdown",
   "metadata": {},
   "source": [
    "Ramona Bendias, Eda Dagasan"
   ]
  },
  {
   "cell_type": "markdown",
   "metadata": {},
   "source": [
    "# Task 1\n"
   ]
  },
  {
   "cell_type": "markdown",
   "metadata": {
    "ExecuteTime": {
     "end_time": "2017-09-20T16:53:02.633822Z",
     "start_time": "2017-09-20T16:52:59.714821Z"
    },
    "collapsed": false
   },
   "source": [
    "We implemented the unknown a_i with help of the three different ways. The a looks exactly the same with the normal equation, the qr factorization and with the svd decomposition: a= [  3.99977426e+00,  -1.53545576e-03 ,  3.00267362e+00, 1.99819673e+00, 1.00040411e+00]. If we plot the discrete values and the function it fits really well. \n",
    "\n",
    "\n",
    "To compare the execution time we can firstly note that we have to build A (the matrix with the function in it) for all methods. So this time doesn't matter. \n",
    "For the normal equation solution we need to transpose A, built two products of two matrices and solve one linear equation system.  (If we restart the kernel, it takes about 378ms for the execution)\n",
    "For the qr factorization we need the qr factorization command or compute it and we need also one transpose, one product and one solution of a linear equation system. (about 344ms)\n",
    "For the last solution, the svd decomposition, we need the svd decomposition, two inverses, three products and build the diagonal matrix with the diagonal entries from the svd decomposition. (123ms)\n",
    "It seems that the svd takes the most time because there are the most calculations. But even when executing the program with the existing A and the stored solution the normal equation takes the most time (about 20ms). \n",
    "We think the execution time of the last method is so good, because we don't have to use the solve command. We can built the inverse of the diagonal matrix very easy so that we can use $x=A^{-1}*b$ to solve the linear equation. \n",
    "\n",
    "You can find the code in the attachment also with the plot.\n",
    "\n",
    "\n"
   ]
  },
  {
   "cell_type": "markdown",
   "metadata": {},
   "source": [
    "# Task 2"
   ]
  },
  {
   "cell_type": "markdown",
   "metadata": {},
   "source": [
    "For the problem $A \\mapsto A^{-1}b$, with a given matrix $A$ and b as input, we have that the condition number \n",
    "\n",
    "$$\n",
    "\\frac{||\\delta x||}{||x||}\\frac{||b||}{||\\delta b||} ≤ \\kappa(A) = ||A||||A^{-1}|| = \\frac{\\sigma_{n}}{\\sigma_{1}}\n",
    "$$\n",
    "\n",
    "when the norm is the 2-norm. Then, if we choose $b=u_{1}$, where $u_{1}$ is the left singular vector corresponding to the greatest singular value $\\sigma_{1}$ in te SVD-decomposition of A,\n",
    "\n",
    "$$\n",
    "x = A^{-1}b = V \\Sigma^{-1} U^{T} u_{1} = V \\Sigma^{-1}\n",
    "\\begin{bmatrix}\n",
    "    u_{1}^{T}    \\\\\n",
    "    \\vdots       \\\\\n",
    "    u_{n}^{T}             \n",
    "\\end{bmatrix} u_{1} = V \n",
    "\\begin{bmatrix}\n",
    "    \\frac{1}{\\sigma_{1}} & \\ldots  & 0  \\\\\n",
    "    \\vdots & \\ddots & \\vdots      \\\\\n",
    "    0 & \\ldots & \\frac{1}{\\sigma_{n}}           \n",
    "\\end{bmatrix} \n",
    "\\begin{bmatrix}\n",
    "    1    \\\\\n",
    "    0    \\\\\n",
    "    \\vdots       \\\\\n",
    "    0             \n",
    "\\end{bmatrix} =\n",
    "\\begin{bmatrix}\n",
    "    v_{1} & \\ldots & v_{n}             \n",
    "\\end{bmatrix}\n",
    "\\begin{bmatrix}\n",
    "    \\frac{1}{\\sigma_{1}} \\\\\n",
    "    0 \\\\\n",
    "    \\vdots       \\\\\n",
    "    0             \n",
    "\\end{bmatrix} = \\frac{v_{1}}{\\sigma_{1}},\n",
    "$$\n",
    "\n",
    "\n",
    "where $v_{1}$ is the corresponding right singular vector. \n",
    "Then\n",
    "\n",
    "$$\n",
    "\\frac{||b||}{||x||} = \\frac{||u_{1}||}{||\\frac{1}{\\sigma_{1}}v_{1}||}=\\sigma_{1}.\n",
    "$$\n",
    "\n",
    "Similarily, with the choice $\\delta b = u_{n}$ – the left singular vector associated with the smallest singular value $\\sigma_{n}$, \n",
    "\n",
    "$$\n",
    "\\frac{||\\delta b||}{||\\delta x||} = \\frac{||\\frac{v_{1}}{\\sigma_{n}}||}{||u_{n}||}=\\frac{1}{\\sigma_{n}}.\n",
    "$$\n",
    "\n",
    "Finally\n",
    "\n",
    "$$\n",
    "\\frac{||\\delta x||}{||x||}\\frac{||b||}{||\\delta b||} = \\frac{\\sigma_{1}}{\\sigma_{n}} = ||A||||A^{-1}||, \n",
    "$$\n",
    "\n",
    "and the equality holds."
   ]
  },
  {
   "cell_type": "markdown",
   "metadata": {},
   "source": [
    "# Task 3"
   ]
  },
  {
   "cell_type": "markdown",
   "metadata": {},
   "source": [
    "We constructed the Hilbert matrix H of dimension 50 and its inverse in python. The condition number of the matrix we determined to\n",
    "\n",
    "$$\n",
    "\\kappa(H) = ||H||||H^{-1}|| = 1.42\\cdot 10^{74}.\n",
    "$$\n",
    "\n",
    "Our result of task 2 suggests that we should obtain this number by computing\n",
    "\n",
    "$$\n",
    "\\frac{||\\delta x||}{||x||}\\frac{||b||}{||\\delta b||},\n",
    "$$\n",
    "\n",
    "using c as the left singular vectors described in task 2. We can get these by SVD-decomposing H,\n",
    "\n",
    "$$\n",
    "H = U \\Sigma V^{T},\n",
    "$$\n",
    "\n",
    "and taking $u_{1}, u_{n}$ from the matrix U. This works well for small dimensions (up to 10), so that the equality from task 2 holds. However for larger dimensions (and specifically for n=50), the condition number is smaller than $||H||||H^{-1}||$, for n=50: \n",
    "\n",
    "$$\n",
    "\\frac{||\\delta x||}{||x||}\\frac{||b||}{||\\delta b||} = 1.74 \\cdot 10^{16}.\n",
    "$$"
   ]
  },
  {
   "cell_type": "markdown",
   "metadata": {},
   "source": [
    "We cannot explain why we dont obtain the equality, but we suspect it can have to do with the properties of H (since it is very ill conditioned small numerical perturbations affects gravely the solution?). In particular since it works for lower dimensions we dont suspect an error in our implementation."
   ]
  },
  {
   "cell_type": "markdown",
   "metadata": {},
   "source": [
    "We tried to put in other vectors for $b, \\delta b$ and saw that we never suceeded to get a larger condition number for this problem, which motivates that the choice was the good one."
   ]
  },
  {
   "cell_type": "markdown",
   "metadata": {},
   "source": [
    "# Attachements"
   ]
  },
  {
   "cell_type": "markdown",
   "metadata": {},
   "source": [
    "## Task 1 – Code and plot"
   ]
  },
  {
   "cell_type": "code",
   "execution_count": 1,
   "metadata": {
    "collapsed": false
   },
   "outputs": [
    {
     "name": "stdout",
     "output_type": "stream",
     "text": [
      "Which file name?\n",
      "---->  homework3.txt\n",
      "You get now two shape (80,) arrays \"t\" and \"v\" with data.\n"
     ]
    }
   ],
   "source": [
    "import numpy as np\n",
    "import scipy.linalg as sl\n",
    "import csv\n",
    "import matplotlib.pyplot as plt\n",
    "% matplotlib inline\n",
    "\n",
    "# import the text file and create two vectors v and t\n",
    "\n",
    "import os\n",
    "\n",
    "try:\n",
    "\tdatfilestr = input('Which file name?\\n---->  ')\n",
    "\tdatfile=open(datfilestr,'r')\n",
    "except FileNotFoundError:\n",
    "\ttxt=\"\"\"File {} not found in catalogue {}. \n",
    "\t    Make sure you downloaded the file from the course homepage\n",
    "\t    and you run this script in its catalogue.\n",
    "\t    \"\"\"\n",
    "\tprint(txt.format(datfilestr,os.path.abspath(os.curdir)))\n",
    "else:\n",
    "\tline = [ll.strip('\\n').split(',') for ll in datfile.readlines()]\n",
    "\tt,v=list(zip(*[(float(l[0]),float(l[1])) for l in line]))\n",
    "\tt=np.array(t)\n",
    "\tv=np.array(v)\n",
    "\tprint('You get now two shape {sh} arrays \"t\" and \"v\" with data.'.format(sh=t.shape))"
   ]
  },
  {
   "cell_type": "code",
   "execution_count": 2,
   "metadata": {
    "collapsed": false
   },
   "outputs": [
    {
     "name": "stdout",
     "output_type": "stream",
     "text": [
      "[  3.99977426e+00  -1.53545580e-03   3.00267362e+00   1.99819673e+00\n",
      "   1.00040411e+00]\n",
      "[  3.99977426e+00  -1.53545576e-03   3.00267362e+00   1.99819673e+00\n",
      "   1.00040411e+00]\n",
      "[  3.99977426e+00  -1.53545576e-03   3.00267362e+00   1.99819673e+00\n",
      "   1.00040411e+00]\n"
     ]
    },
    {
     "data": {
      "text/plain": [
       "[<matplotlib.lines.Line2D at 0x11f4beac8>,\n",
       " <matplotlib.lines.Line2D at 0x11f4be400>,\n",
       " <matplotlib.lines.Line2D at 0x11f4b5c50>]"
      ]
     },
     "execution_count": 2,
     "metadata": {},
     "output_type": "execute_result"
    },
    {
     "data": {
      "image/png": "[encoded data removed]",
      "text/plain": [
       "<matplotlib.figure.Figure at 0x119615fd0>"
      ]
     },
     "metadata": {},
     "output_type": "display_data"
    }
   ],
   "source": [
    "# blue points are the given diskret values \n",
    "# implement a code which uses the least square problem with 3 different \n",
    "class Least_square_methode():\n",
    "    \n",
    "    def __init__(self, v, t):\n",
    "        self.v = v\n",
    "        self.t = t\n",
    "        self.A = np.empty((0,5), int)\n",
    "        for t_i in self.t: \n",
    "            self.A = np.vstack([self.A,[1, t_i, t_i**2, t_i**3, t_i**4]])\n",
    "            \n",
    "    def normal_equation(self): \n",
    "        AT = np.transpose(self.A)\n",
    "        normal = sl.solve(np.dot(AT, self.A), np.dot(AT,v)) \n",
    "        return normal\n",
    "    def qr_factorisation(self):\n",
    "        q,r = np.linalg.qr(self.A) # compute the reduced QR factorization\n",
    "        qT = np.transpose(q) # build the transpose because q isn't square\n",
    "        qv = np.dot(qT,v) \n",
    "        beta = sl.solve(r,qv) # solve the upper-triangular system R*x = QT*v  beta is the x vector we are searching for\n",
    "        return beta\n",
    "    def svd_decomposition(self):\n",
    "        u,s,d = np.linalg.svd(self.A) # computes the svd\n",
    "        u = np.linalg.inv(u)\n",
    "        uv = np.dot(u,self.v)\n",
    "        S = np.zeros((5, 80))\n",
    "        for i in range(5):\n",
    "            S[i,i] = 1/s[i]\n",
    "        w = np.dot(S,uv)\n",
    "        gamma = np.dot(np.linalg.inv(d),w)\n",
    "        return gamma\n",
    "    \n",
    "A = Least_square_methode(v,t)\n",
    "normal = A.normal_equation()\n",
    "print(normal)\n",
    "qr = A.qr_factorisation()\n",
    "print(qr)\n",
    "svd = A.svd_decomposition()\n",
    "print(svd)\n",
    "g = np.arange(0,2,0.01)\n",
    "plt.plot(g, ((svd[0]+svd[1]*g+svd[2]*g**2+svd[3]*g**3+svd[4]*g**4)),'r-', t,v,'.', g, \\\n",
    "         ((qr[0]+qr[1]*g+qr[2]*g**2+qr[3]*g**3+qr[4]*g**4)),'g-')"
   ]
  },
  {
   "cell_type": "markdown",
   "metadata": {},
   "source": [
    "## Task 3 – Code"
   ]
  },
  {
   "cell_type": "code",
   "execution_count": 9,
   "metadata": {
    "collapsed": false
   },
   "outputs": [
    {
     "name": "stdout",
     "output_type": "stream",
     "text": [
      "K 1.7423272911991916e+16 \n",
      "K(A) 1.42294184155e+74\n"
     ]
    }
   ],
   "source": [
    "H = sl.hilbert(50)\n",
    "H_inv = sl.invhilbert(50)\n",
    "\n",
    "U,s,V = sl.svd(H)   #U unitary matrix having left sing vectors as columns\n",
    "                    #s vector with sing values ordered (greatest first)\n",
    "S = np.diag(s)      #constructing a diag matrix \n",
    "\n",
    "b = U[:,0] #first column\n",
    "delta_b = U[:,len(s)-1] #last column\n",
    "    \n",
    "x = H_inv@b\n",
    "delta_x = H_inv@delta_b\n",
    "\n",
    "\n",
    "K = (sl.norm(delta_x, ord=2)/sl.norm(x, ord=2))/(sl.norm(delta_b, ord=2)/sl.norm(b, ord=2))\n",
    "    \n",
    "K_A = sl.norm(H, ord=2)*sl.norm(H_inv, ord=2)\n",
    "\n",
    "print('K',K,'\\nK(A)', K_A)"
   ]
  }
 ],
 "metadata": {
  "anaconda-cloud": {},
  "kernelspec": {
   "display_name": "Python 3",
   "language": "python",
   "name": "python3"
  },
  "language_info": {
   "codemirror_mode": {
    "name": "ipython",
    "version": 3
   },
   "file_extension": ".py",
   "mimetype": "text/x-python",
   "name": "python",
   "nbconvert_exporter": "python",
   "pygments_lexer": "ipython3",
   "version": "3.5.4"
  },
  "toc": {
   "nav_menu": {},
   "number_sections": true,
   "sideBar": true,
   "skip_h1_title": false,
   "toc_cell": false,
   "toc_position": {},
   "toc_section_display": "block",
   "toc_window_display": false
  },
  "varInspector": {
   "cols": {
    "lenName": 16,
    "lenType": 16,
    "lenVar": 40
   },
   "kernels_config": {
    "python": {
     "delete_cmd_postfix": "",
     "delete_cmd_prefix": "del ",
     "library": "var_list.py",
     "varRefreshCmd": "print(var_dic_list())"
    },
    "r": {
     "delete_cmd_postfix": ") ",
     "delete_cmd_prefix": "rm(",
     "library": "var_list.r",
     "varRefreshCmd": "cat(var_dic_list()) "
    }
   },
   "types_to_exclude": [
    "module",
    "function",
    "builtin_function_or_method",
    "instance",
    "_Feature"
   ],
   "window_display": false
  }
 },
 "nbformat": 4,
 "nbformat_minor": 1
}
