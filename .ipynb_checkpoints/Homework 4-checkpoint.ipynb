{
 "cells": [
  {
   "cell_type": "markdown",
   "metadata": {},
   "source": [
    "# Test"
   ]
  },
  {
   "cell_type": "code",
   "execution_count": null,
   "metadata": {
    "collapsed": true
   },
   "outputs": [],
   "source": []
  },
  {
   "cell_type": "code",
   "execution_count": 13,
   "metadata": {
    "ExecuteTime": {
     "end_time": "2017-09-11T22:00:41.195516Z",
     "start_time": "2017-09-11T22:00:41.189831Z"
    },
    "collapsed": true
   },
   "outputs": [],
   "source": [
    "import scipy.linalg as ls\n",
    "import numpy as np"
   ]
  },
  {
   "cell_type": "code",
   "execution_count": 8,
   "metadata": {
    "ExecuteTime": {
     "end_time": "2017-09-11T21:49:06.131970Z",
     "start_time": "2017-09-11T21:49:06.119926Z"
    },
    "collapsed": false
   },
   "outputs": [
    {
     "ename": "ValueError",
     "evalue": "invalid number of arguments",
     "output_type": "error",
     "traceback": [
      "\u001b[0;31m---------------------------------------------------------------------------\u001b[0m",
      "\u001b[0;31mValueError\u001b[0m                                Traceback (most recent call last)",
      "\u001b[0;32m<ipython-input-8-bae8c054a6a9>\u001b[0m in \u001b[0;36m<module>\u001b[0;34m()\u001b[0m\n\u001b[0;32m----> 1\u001b[0;31m \u001b[0mnp\u001b[0m\u001b[0;34m.\u001b[0m\u001b[0mabs\u001b[0m\u001b[0;34m(\u001b[0m\u001b[0;34m)\u001b[0m\u001b[0;34m\u001b[0m\u001b[0m\n\u001b[0m",
      "\u001b[0;31mValueError\u001b[0m: invalid number of arguments"
     ]
    }
   ],
   "source": [
    "np.abs()"
   ]
  },
  {
   "cell_type": "code",
   "execution_count": 11,
   "metadata": {
    "ExecuteTime": {
     "end_time": "2017-09-11T21:49:32.172323Z",
     "start_time": "2017-09-11T21:49:32.106745Z"
    },
    "code_folding": [
     25
    ],
    "collapsed": true
   },
   "outputs": [],
   "source": [
    "import numpy as np\n",
    "import scipy.linalg as la\n",
    "\n",
    "\n",
    "class Orthogonalization():\n",
    "    \n",
    "    def __init__(self, givenmatrix):\n",
    "        self.givenmatrix = givenmatrix\n",
    "    \n",
    "    def gramschmidt(self):\n",
    "        n = len(self.givenmatrix[0])\n",
    "        m = len(self.givenmatrix)\n",
    "        trianglematrix = np.zeros(shape=(n,n))\n",
    "        orthogonalmatrix = np.array(np.zeros(shape=(self.givenmatrix.shape)))\n",
    "        v = np.zeros(shape=(n,n))\n",
    "        for j in range(n):\n",
    "            v[j] = self.givenmatrix[j]\n",
    "            for i in range(j-1):\n",
    "                trianglematrix[i][j] = np.dot(orthogonalmatrix[i],self.givenmatrix[j])\n",
    "                v[j] = v[j] - trianglematrix[i][j]*orthogonalmatrix[i]\n",
    "            trianglematrix[j][j] = la.norm(v[j])\n",
    "            orthogonalmatrix[j] = np.divide(v[j],trianglematrix[j][j])\n",
    "\n",
    "        return orthogonalmatrix\n",
    "        \n",
    "    def norm(self, matrix):\n",
    "        return np.linalg.norm(matrix, ord=2)\n",
    "        \n",
    "        \n",
    "    def qtq(self, matrix):\n",
    "        return np.dot(matrix.transpose(),matrix)\n",
    "        \n",
    "    def deviation(self, matrix):\n",
    "        qtq = self.qtq(matrix)\n",
    "        I = np.identity(len(qtq))\n",
    "        return self.norm(I-qtq)\n",
    "        \n",
    "    def allclose(self, matrix):\n",
    "        qtq = self.qtq(matrix)\n",
    "        I = np.identity(len(qtq))\n",
    "        return np.allclose(qtq, I)\n",
    "        \n",
    "    def eigenvalues(self, matrix):\n",
    "        return la.eigvals(self.qtq(matrix))\n",
    "    \n",
    "    def determinant(self, matrix):\n",
    "        return la.det(self.qtq(matrix))\n",
    "    "
   ]
  },
  {
   "cell_type": "code",
   "execution_count": 12,
   "metadata": {
    "ExecuteTime": {
     "end_time": "2017-09-11T21:49:49.464689Z",
     "start_time": "2017-09-11T21:49:49.450779Z"
    },
    "collapsed": false
   },
   "outputs": [
    {
     "ename": "TypeError",
     "evalue": "__init__() missing 1 required positional argument: 'givenmatrix'",
     "output_type": "error",
     "traceback": [
      "\u001b[0;31m---------------------------------------------------------------------------\u001b[0m",
      "\u001b[0;31mTypeError\u001b[0m                                 Traceback (most recent call last)",
      "\u001b[0;32m<ipython-input-12-6121db2265e5>\u001b[0m in \u001b[0;36m<module>\u001b[0;34m()\u001b[0m\n\u001b[0;32m----> 1\u001b[0;31m \u001b[0mOrthogonalization\u001b[0m\u001b[0;34m(\u001b[0m\u001b[0;34m)\u001b[0m\u001b[0;34m\u001b[0m\u001b[0m\n\u001b[0m",
      "\u001b[0;31mTypeError\u001b[0m: __init__() missing 1 required positional argument: 'givenmatrix'"
     ]
    }
   ],
   "source": []
  }
 ],
 "metadata": {
  "anaconda-cloud": {},
  "kernelspec": {
   "display_name": "Python [conda root]",
   "language": "python",
   "name": "conda-root-py"
  },
  "language_info": {
   "codemirror_mode": {
    "name": "ipython",
    "version": 3
   },
   "file_extension": ".py",
   "mimetype": "text/x-python",
   "name": "python",
   "nbconvert_exporter": "python",
   "pygments_lexer": "ipython3",
   "version": "3.5.2"
  },
  "toc": {
   "nav_menu": {},
   "number_sections": true,
   "sideBar": true,
   "skip_h1_title": false,
   "toc_cell": false,
   "toc_position": {},
   "toc_section_display": "block",
   "toc_window_display": false
  },
  "varInspector": {
   "cols": {
    "lenName": 16,
    "lenType": 16,
    "lenVar": 40
   },
   "kernels_config": {
    "python": {
     "delete_cmd_postfix": "",
     "delete_cmd_prefix": "del ",
     "library": "var_list.py",
     "varRefreshCmd": "print(var_dic_list())"
    },
    "r": {
     "delete_cmd_postfix": ") ",
     "delete_cmd_prefix": "rm(",
     "library": "var_list.r",
     "varRefreshCmd": "cat(var_dic_list()) "
    }
   },
   "types_to_exclude": [
    "module",
    "function",
    "builtin_function_or_method",
    "instance",
    "_Feature"
   ],
   "window_display": false
  }
 },
 "nbformat": 4,
 "nbformat_minor": 1
}
