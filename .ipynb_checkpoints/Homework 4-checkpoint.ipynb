{
 "cells": [
  {
   "cell_type": "markdown",
   "metadata": {},
   "source": [
    "Ramona Bendias, Eda Dagason Homework 4"
   ]
  },
  {
   "cell_type": "markdown",
   "metadata": {
    "ExecuteTime": {
     "end_time": "2017-09-25T14:06:22.469476Z",
     "start_time": "2017-09-25T14:06:22.450665Z"
    }
   },
   "source": [
    "# Task 1"
   ]
  },
  {
   "cell_type": "markdown",
   "metadata": {
    "collapsed": true
   },
   "source": [
    "Since A is positive definite, we have by definition:\n",
    "\n",
    "$$\n",
    "x^{T}Ax = \\begin{pmatrix}\n",
    "x_{1}& \\cdots &x_{n} \n",
    "\\end{pmatrix}\n",
    "\\begin{pmatrix}\n",
    "a_{11} & w^{T} \\\\\n",
    "w & A_{1}\n",
    "\\end{pmatrix}\n",
    "\\begin{pmatrix}\n",
    "x_{1} \\\\\n",
    "\\vdots \\\\\n",
    "x_{n}\n",
    "\\end{pmatrix}\n",
    "≥0, \\forall x, \n",
    "$$\n",
    "with equality iff x=(0,...,0). \n",
    "\n",
    "Thus we can choose a vector x of the form $x=(x_{1},0,...,0)$, for which we get\n",
    "\n",
    "$$\n",
    "x^{T}Ax=x_{1}^2 \\cdot a_{11} > 0 \\implies a_{11}>0.\n",
    "$$\n",
    "\n",
    "To be convinced of the positive definitivity of the submatrix $A_{1}$, we can analogously consider another choice of a vector x, namely $x=(0,x_{2}, \\cdots, x_{n})$. In the matrix multiplication $x^{T}Ax$ the zero touch the first row of A and also its first column. Thus\n",
    "\n",
    "$$\n",
    "x^{T}Ax = y^{T}A_{1}y,\n",
    "$$\n",
    "\n",
    "where $y=(x_{2}, \\cdots, x_{n})$ contains the n-1 last elements of x. It follows that $A_1$ is positive definite since A is."
   ]
  },
  {
   "cell_type": "markdown",
   "metadata": {},
   "source": [
    "# Task 2 "
   ]
  },
  {
   "cell_type": "markdown",
   "metadata": {},
   "source": [
    "**To prove:** \n",
    "A strictly diagonally dominant matrix is invertible. \n",
    "\n",
    "To show that the matrix is invertible we can use the definition that if there is no non zero vector u which solves Au=0 than the matrix is invertible. \n",
    "\n",
    "1.to prove: We can't solve Av=0 if all $v_i$ with i=1,...,n have the same size (in absolute value)\n",
    "\n",
    "For Av=0 to apply, the following must apply: $\\sum_{j}a_{ij}v_{j} = 0$.\n",
    "This is equal to: $a_{ii}v_{i} = -\\sum_{j\\neq i}a_{ij}v_{j}  \\Leftrightarrow a_{ii} = -\\sum_{j\\neq i}\\pm a_{ij} \\Leftrightarrow |a_{ii}| = |\\sum_{j\\neq i}\\pm a_{ij}|  \\Leftrightarrow |a_{ii}| \\leq \\sum_{j\\neq i}| a_{ij}|  $ \n",
    "\n",
    "With the definition of the strictly diagonally dominant matrix which is: $|a_{ii}| > \\sum_{j\\neq i}| a_{ij}| $ there is a contradiction. \n",
    "\n",
    "2.to show: There exists no entry which is bigger or equal than all the other entries. \n",
    "\n",
    "We look at the first row: $\\sum_{j}a_{1j}v_{j} = 0$. That must apply so that you can invert A. This is the same like $\\sum_{j=2}^{n}a_{1j}v_{j} = a_{11}v_{1} \\Leftrightarrow  \\frac{|\\sum_{j=2}^{n}a_{1j}v_{1j}|}{|v_{1}|}=|a_{11}| $ (for a nxn matrix). \n",
    "\n",
    "We take the definition of the strictly diagonally dominant matrix:\n",
    "$ |a_{11}|  = \\frac{|\\sum_{j=2}^{n}a_{1j}v_{1j}|}{|v_{1}|} \\leq \\sum_{j=2}^{n}\\frac{|a_{1j}v_{1j}|}{|v_{1}|}\\Leftrightarrow \\sum_{j=2}^{n}|a_{1j}| < \\sum_{j=2}^{n}\\frac{|a_{1j}v_{1j}|}{|v_{1}|}$ If we say $v_{1}$ is bigger or equal to all other $v_{i}$ than the there is a contradiction. This you can do for all lines. So no $v_{i}$ can be the biggest or equal to the others. That shows that there is no v which solves the equation Av=0 and that means A is non singular. "
   ]
  },
  {
   "cell_type": "markdown",
   "metadata": {
    "ExecuteTime": {
     "end_time": "2017-09-25T14:20:52.997103Z",
     "start_time": "2017-09-25T14:20:52.976302Z"
    }
   },
   "source": [
    "With the Gerschgorin's theorem: \n",
    "    The Circles around the values $a_{ii}$ in which all eigenvalues are can't include the 0 because the radius around $a_{ii}$ is always smaller than the distance between 0 and $a_{ii}$.\n",
    "    "
   ]
  },
  {
   "cell_type": "markdown",
   "metadata": {},
   "source": [
    "# Task"
   ]
  },
  {
   "cell_type": "code",
   "execution_count": 57,
   "metadata": {
    "ExecuteTime": {
     "end_time": "2017-09-28T15:09:11.321227Z",
     "start_time": "2017-09-28T15:09:11.316638Z"
    },
    "collapsed": true
   },
   "outputs": [],
   "source": [
    "import numpy as np\n",
    "import matplotlib.pyplot as plt\n",
    "import cmath"
   ]
  },
  {
   "cell_type": "code",
   "execution_count": 90,
   "metadata": {
    "ExecuteTime": {
     "end_time": "2017-09-29T01:41:50.812330Z",
     "start_time": "2017-09-29T01:41:49.262030Z"
    },
    "collapsed": false
   },
   "outputs": [
    {
     "data": {
      "image/png": "[encoded data removed]",
      "text/plain": [
       "<matplotlib.figure.Figure at 0x10da22208>"
      ]
     },
     "metadata": {},
     "output_type": "display_data"
    }
   ],
   "source": [
    "\n",
    "C = np.array ( np.logical_not(np.eye(4, dtype=bool)))\n",
    "p = np.arange(0,1.1,0.1) \n",
    "fig, ax = plt.subplots()\n",
    "for m in p: \n",
    "    A = np.array([[5,0,0,-1], [1,0,-2,0], [-1.5,1,-2,1],[-1,3,1.5,-3]])\n",
    "    A[C] = m * A[C]\n",
    "    w,v = np.linalg.eig(A)\n",
    "    plt.plot(w.real,w.imag, '.')\n",
    " \n",
    "A = np.array([[5,0,0,-1], [1,0,-2,0], [-1.5,1,-2,1],[-1,3,1.5,-3]])\n",
    "v,w = np.linalg.eig(A)\n",
    "plt.plot(v.real,v.imag, 'ro')   \n",
    "circle1 = plt.Circle((5, 0), 1, alpha = 0.1)    \n",
    "circle2 = plt.Circle((0, 0), 3, alpha = 0.1)\n",
    "circle3 = plt.Circle((-2, 0), 3.5 , alpha = 0.1)\n",
    "circle4 = plt.Circle((-3, 0), 5.5 , alpha = 0.1)\n",
    "\n",
    "ax.add_artist(circle1)\n",
    "ax.add_artist(circle2)\n",
    "ax.add_artist(circle3)\n",
    "ax.add_artist(circle4)\n",
    "    \n",
    "plt.axis([-12,12, -10, 10])    \n",
    "g = np.arange(0,4) \n",
    "plt.ylabel('imaginary value')\n",
    "plt.xlabel('real value')\n",
    "plt.show()\n",
    "\n",
    "\n",
    "\n"
   ]
  },
  {
   "cell_type": "markdown",
   "metadata": {
    "collapsed": true
   },
   "source": [
    "With help of this picture we can explain the Gerschgorin’s theorm. It says if we take every row, the diagonal entries of the matrix are the center of the Gerschgorin's circles and the sum of the off diagonal entries (as absolute values) in the certain row are the radii. So if we have e.g. one circle completely separated from the other circle like we can see in the plot above, then we can say that one of the eigenvalues lives in the separated circles other eigenvalues are to be found in the union of the other circles. "
   ]
  },
  {
   "cell_type": "markdown",
   "metadata": {},
   "source": [
    "# Task 4\n"
   ]
  },
  {
   "cell_type": "markdown",
   "metadata": {},
   "source": [
    "When we have isolated clusters of websites linking to each other, we will have a block diagonal hyperlink matrix. (To realise it, we can choose an enumeration of the websites so that all websites in a cluster are consecutive. Each row and column will then have non-zero entries at the places i,...,j corresponding to the websites of that cluster.)\n",
    "\n",
    "Our hyper link matrix will look like this:\n",
    "\n",
    "$$\n",
    "\\begin{pmatrix}\n",
    "H_{1} & 0 & \\cdots & 0\\\\\n",
    "0 & H_{2} & \\cdots & 0\\\\\n",
    "\\vdots & \\vdots & \\ddots & \\vdots \\\\\n",
    "0 & 0 & \\cdots &  H_{r}\n",
    "\\end{pmatrix}\n",
    "$$\n",
    "\n",
    "The eigenvalues of a block diagonal matrix are the eigenvalues of its submatrices $H_{1},H_{2}, \\cdots, H_{r}$. Each submatrix is column stochastic (if we were to consider just one of the clusters $i$ and construct a hyperlink matrix for it, this would be exactly the corresponding submatrix $H_{i}$). Thus each submatrix has the eigenvalue 1, of multiplicity ≥1. Since we have r submatrices, the eigenvalue 1 of the hyperlink matrix H must be of of mulitplicity ≥r."
   ]
  }
 ],
 "metadata": {
  "anaconda-cloud": {},
  "kernelspec": {
   "display_name": "Python [conda root]",
   "language": "python",
   "name": "conda-root-py"
  },
  "language_info": {
   "codemirror_mode": {
    "name": "ipython",
    "version": 3
   },
   "file_extension": ".py",
   "mimetype": "text/x-python",
   "name": "python",
   "nbconvert_exporter": "python",
   "pygments_lexer": "ipython3",
   "version": "3.5.2"
  },
  "toc": {
   "nav_menu": {},
   "number_sections": true,
   "sideBar": true,
   "skip_h1_title": false,
   "toc_cell": false,
   "toc_position": {},
   "toc_section_display": "block",
   "toc_window_display": false
  },
  "varInspector": {
   "cols": {
    "lenName": 16,
    "lenType": 16,
    "lenVar": 40
   },
   "kernels_config": {
    "python": {
     "delete_cmd_postfix": "",
     "delete_cmd_prefix": "del ",
     "library": "var_list.py",
     "varRefreshCmd": "print(var_dic_list())"
    },
    "r": {
     "delete_cmd_postfix": ") ",
     "delete_cmd_prefix": "rm(",
     "library": "var_list.r",
     "varRefreshCmd": "cat(var_dic_list()) "
    }
   },
   "types_to_exclude": [
    "module",
    "function",
    "builtin_function_or_method",
    "instance",
    "_Feature"
   ],
   "window_display": false
  }
 },
 "nbformat": 4,
 "nbformat_minor": 1
}
