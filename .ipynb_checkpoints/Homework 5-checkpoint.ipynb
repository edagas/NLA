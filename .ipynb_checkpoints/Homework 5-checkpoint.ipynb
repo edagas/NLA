{
 "cells": [
  {
   "cell_type": "markdown",
   "metadata": {},
   "source": [
    "Lecture:\n"
   ]
  },
  {
   "cell_type": "markdown",
   "metadata": {},
   "source": [
    "## Task 1"
   ]
  },
  {
   "cell_type": "code",
   "execution_count": null,
   "metadata": {
    "collapsed": true
   },
   "outputs": [],
   "source": [
    "from scipy import *\n",
    "from pylab import *\n",
    "import sys\n",
    "\n",
    "\n",
    "def schurform(A):\n",
    "'''\n",
    "Compute the Schurform of a matrix A \n",
    "\n",
    ":param A: matrix (symmetric -> only real entries on the diagonal of the Schurmatrix)\n",
    ":return: Schurform of A \n",
    "'''\n",
    "i = 10000\n",
    "    while i>0: #maybe this kind of loop is better than an for\n",
    "        Q, R = np.qr(A)\n",
    "        A = np.dot(R,Q)\n",
    "        i -= 1\n",
    "        \n",
    "#####\n",
    "\n",
    "\n",
    "def hessenberg(A):\n",
    "    \"\"\"\n",
    "    Reduces a matrix A to Hessenberg form. If A is hermitian (symmetric), \n",
    "    the Hessenberg form will be tridiagonal.\n",
    "    \"\"\"\n",
    "    m = shape(A)[0]\n",
    "    for k in range(m-2):\n",
    "        x = A[k+1:, k]\n",
    "        v_k = sign(x[0])*array([norm(x, 2)]+(len(x)-1)*[0.]) + x      \n",
    "        v_k = v_k/norm(v_k, 2)\n",
    "        b = dot(v_k,A[k+1:,k:])\n",
    "        A[k+1:,k:] -= 2*outer(v_k,b)\n",
    "        c = dot(A[0:,k+1:],v_k.T)\n",
    "        A[0:,k+1:] -= 2*outer(c,v_k)\n",
    "    #A[abs(A) < 1.e-15] = 0 #will it disturb anything?\n",
    "    return A\n",
    "    \n",
    "        \n",
    "\n",
    "def schurform(A):\n",
    "    '''\n",
    "    Compute the Schurform of a matrix A \n",
    "\n",
    "    param A: matrix (symmetric -> only real entries on the \n",
    "    diagonal of the Schurmatrix)\n",
    "    return: Schurform of A \n",
    "    '''\n",
    "#suppose A symmetric\n",
    "    A = hessenberg(A)\n",
    "    A_0 = A\n",
    "    n = shape(A_0)[0]\n",
    "    eigvals = []\n",
    "    maxit = 1000\n",
    "    for i in range(maxit):\n",
    "        mu_i = A_0[n-1,n-1] #why this choice\n",
    "        q_i, r_i = qr(A_0-mu_i*eye(n))\n",
    "        A_0 = r_i@q_i + mu_i*eye(n)\n",
    "        for j in range(n-1):\n",
    "            if abs(A_0[j,j+1]) < 1.e-8:\n",
    "                A_0[j,j+1] = 0\n",
    "                A_0[j+1,j] = 0\n",
    "                A_1 = A[:j,:j]\n",
    "                n_1 = shape(A_1)[0]\n",
    "                A_2 = A[j+1:,j+1:]\n",
    "                n_2 = shape(A_2)[0]\n",
    "                for k in range(maxit): #trying to realise the deflation, but I its not right yet\n",
    "                    mu_1 = A_1[n_1-1,n_1-1]\n",
    "                    mu_2 = A_2[n_2-1,n_2-1]\n",
    "                    q_1, r_1 = qr(A_1-mu_1*eye(n_1))\n",
    "                    q_2, r_2 = qr(A_2-mu_2*eye(n_2))\n",
    "                    A_1 = r_1@q_1 + mu_1*eye(n_1)\n",
    "                    A_2 = r_2@q_2 + mu_2*eye(n_2)          \n",
    "    return A\n",
    "\n",
    "\n",
    "\n",
    "A = rand(5,5)\n",
    "A_sym = (A + A.T)/2\n",
    "print(A_sym)\n",
    "print(hessenberg(A_sym))\n",
    "print(schurform(A_sym))"
   ]
  },
  {
   "cell_type": "markdown",
   "metadata": {},
   "source": [
    "## Task 2"
   ]
  },
  {
   "cell_type": "markdown",
   "metadata": {},
   "source": [
    "To proof that (A-$\\lambda$I) has rank at least m-1 if A$\\in$ R$^{m x m}$ we can use that A is a tridiagonal and symmetric matrix with all its sub- and superdiagonal entries nonzero.\n",
    "What we can use for the proof is that we know: a matrix has always rank greater or equal than it's submatrices. If we take the submatrix of our tridiagonal submatrix we will get a matrix with full rank (m-1), because if we take the submatrix S by deleting the first row and the last column: \n",
    "$ A = \\begin{pmatrix}\n",
    "d_{1} & c_{1} & 0 &... & 0 \\\\\n",
    "a_{1} & d_{2} & c_{2} & \\ddots &\\vdots \\\\\n",
    "    0 & a_{2}&    d_{3}   &   \\ddots       &0 \\\\\n",
    "\\vdots & \\ddots & \\ddots& \\ddots   & c_{m-1} \\\\\n",
    "0 & \\dots & 0& a_{m-1} & d_{m}\n",
    "\\end{pmatrix}$\n",
    "it will look like this: \n",
    "$ S= \\begin{pmatrix}\n",
    "a_{1} & d_{2} & c_{2} & 0\\\\\n",
    "     & a_{2}&    d_{3}   &  c_{m-2}\\\\\n",
    "    & & \\ddots & d_{m-1}\\\\\n",
    "0 &  & & a_{m-1}   \n",
    "\\end{pmatrix}$\n",
    "This is a upper triangular matrix where we already know that all diagonal entries are nonzero. Thus the matrix has full rank. \n",
    "But we also know that the (A-$\\lambda$I) can't have full rank because this is the condition that $\\lambda$ is an eigenvalue of A. With this we can say for sure A-$\\lambda$I has the rank m-1 for each eigenvalue. If this applies for all eigenvalues they should all be distinct otherwise the matrix A-$\\lambda$I wouldn't have rank m-1 for each eigenvalue.  "
   ]
  },
  {
   "cell_type": "markdown",
   "metadata": {},
   "source": [
    "## Task 3"
   ]
  },
  {
   "cell_type": "markdown",
   "metadata": {},
   "source": [
    "https://gist.github.com/swvist/3775568"
   ]
  },
  {
   "cell_type": "code",
   "execution_count": 12,
   "metadata": {
    "ExecuteTime": {
     "end_time": "2017-10-03T14:28:39.395691Z",
     "start_time": "2017-10-03T14:28:38.508214Z"
    },
    "collapsed": false
   },
   "outputs": [],
   "source": [
    "import numpy as np\n",
    "import scipy.linalg as sl\n",
    "def characteristic_polynom(A, x):\n",
    "    m = np.size(A)[0]\n",
    "    if m > 0: \n",
    "        return (A[m-1;m,m-1;m]-x)*characteristic_polynom(A[:m-1,:m-1],x)-A[m-1:m,m-2:m-1]**2*characteristic_polynom(A[:m-2,:m-2],x)\n",
    "    if m = 0:\n",
    "        return 1\n"
   ]
  },
  {
   "cell_type": "code",
   "execution_count": 23,
   "metadata": {
    "ExecuteTime": {
     "end_time": "2017-10-03T15:00:15.242354Z",
     "start_time": "2017-10-03T15:00:15.231073Z"
    },
    "collapsed": false
   },
   "outputs": [
    {
     "name": "stdout",
     "output_type": "stream",
     "text": [
      "[[  1.52154182e+00  -2.16926862e+00  -1.60624337e-16  -6.09617649e-17\n",
      "    1.11004963e-16]\n",
      " [ -2.16926862e+00   3.40770622e+00   3.92615722e-01   6.92861385e-17\n",
      "   -3.54251526e-16]\n",
      " [  0.00000000e+00   3.92615722e-01   6.35291030e-01  -3.68837296e-01\n",
      "    7.35263474e-17]\n",
      " [  0.00000000e+00   0.00000000e+00  -3.68837296e-01   1.18261486e+00\n",
      "    5.66827133e-01]\n",
      " [  0.00000000e+00   0.00000000e+00   0.00000000e+00   5.66827133e-01\n",
      "   -6.78809385e-01]]\n"
     ]
    },
    {
     "data": {
      "text/plain": [
       "array([[ 0.56682713]])"
      ]
     },
     "execution_count": 23,
     "metadata": {},
     "output_type": "execute_result"
    }
   ],
   "source": [
    "A = np.random.rand(5,5)\n",
    "A = (np.transpose(A) + A)\n",
    "A = sl.hessenberg(A)\n",
    "print(A)\n",
    "A[3:4,4:5]"
   ]
  }
 ],
 "metadata": {
  "anaconda-cloud": {},
  "kernelspec": {
   "display_name": "Python 3",
   "language": "python",
   "name": "python3"
  },
  "language_info": {
   "codemirror_mode": {
    "name": "ipython",
    "version": 3
   },
   "file_extension": ".py",
   "mimetype": "text/x-python",
   "name": "python",
   "nbconvert_exporter": "python",
   "pygments_lexer": "ipython3",
   "version": "3.5.4"
  },
  "toc": {
   "nav_menu": {},
   "number_sections": true,
   "sideBar": true,
   "skip_h1_title": false,
   "toc_cell": false,
   "toc_position": {},
   "toc_section_display": "block",
   "toc_window_display": false
  },
  "varInspector": {
   "cols": {
    "lenName": 16,
    "lenType": 16,
    "lenVar": 40
   },
   "kernels_config": {
    "python": {
     "delete_cmd_postfix": "",
     "delete_cmd_prefix": "del ",
     "library": "var_list.py",
     "varRefreshCmd": "print(var_dic_list())"
    },
    "r": {
     "delete_cmd_postfix": ") ",
     "delete_cmd_prefix": "rm(",
     "library": "var_list.r",
     "varRefreshCmd": "cat(var_dic_list()) "
    }
   },
   "types_to_exclude": [
    "module",
    "function",
    "builtin_function_or_method",
    "instance",
    "_Feature"
   ],
   "window_display": false
  }
 },
 "nbformat": 4,
 "nbformat_minor": 1
}
