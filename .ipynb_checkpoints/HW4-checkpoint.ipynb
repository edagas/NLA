{
 "cells": [
  {
   "cell_type": "markdown",
   "metadata": {},
   "source": [
    "# Task 1"
   ]
  },
  {
   "cell_type": "markdown",
   "metadata": {},
   "source": [
    "Since A is positive definite, we have by definition:\n",
    "\n",
    "$$\n",
    "x^{T}Ax = \\begin{pmatrix}\n",
    "x_{1}& \\cdots &x_{n} \n",
    "\\end{pmatrix}\n",
    "\\begin{pmatrix}\n",
    "a_{11} & w^{T} \\\\\n",
    "w & A_{1}\n",
    "\\end{pmatrix}\n",
    "\\begin{pmatrix}\n",
    "x_{1} \\\\\n",
    "\\vdots \\\\\n",
    "x_{n}\n",
    "\\end{pmatrix}\n",
    "≥0, \\forall x, \n",
    "$$\n",
    "with equality iff x=(0,...,0). \n",
    "\n",
    "Thus we can choose a vector x of the form $x=(x_{1},0,...,0)$, for which we get\n",
    "\n",
    "$$\n",
    "x^{T}Ax=x_{1}^2 \\cdot a_{11} > 0 \\implies a_{11}>0.\n",
    "$$\n",
    "\n",
    "To be convinced of the positive definitivity of the submatrix $A_{1}$, we can analogously consider another choice of a vector x, namely $x=(0,x_{2}, \\cdots, x_{n})$. In the matrix multiplication $x^{T}Ax$ the zero touch the first row of A and also its first column. Thus\n",
    "\n",
    "$$\n",
    "x^{T}Ax = y^{T}A_{1}y,\n",
    "$$\n",
    "\n",
    "where $y=(x_{2}, \\cdots, x_{n})$ contains the n-1 last elements of x. It follows that $A_1$ is positive definite since A is."
   ]
  },
  {
   "cell_type": "markdown",
   "metadata": {},
   "source": [
    "# Task 4"
   ]
  },
  {
   "cell_type": "markdown",
   "metadata": {},
   "source": [
    "When we have isolated clusters of websites linking to each other, we will have a block diagonal hyperlink matrix. (To realise it, we can choose an enumeration of the websites so that all websites in a cluster are consecutive. Each row and column will then have non-zero entries at the places i,...,j corresponding to the websites of that cluster.)\n",
    "\n",
    "Our hyper link matrix will look like this:\n",
    "\n",
    "$$\n",
    "\\begin{pmatrix}\n",
    "H_{1} & 0 & \\cdots & 0\\\\\n",
    "0 & H_{2} & \\cdots & 0\\\\\n",
    "\\vdots & \\vdots & \\ddots & \\vdots \\\\\n",
    "0 & 0 & \\cdots &  H_{r}\n",
    "\\end{pmatrix}\n",
    "$$\n",
    "\n",
    "The eigenvalues of a block diagonal matrix are the eigenvalues of its submatrices $H_{1},H_{2}, \\cdots, H_{r}$. Each submatrix is column stochastic (if we were to consider just one of the clusters $i$ and construct a hyperlink matrix for it, this would be exactly the corresponding submatrix $H_{i}$). Thus each submatrix has the eigenvalue 1, of multiplicity ≥1. Since we have r submatrices, the eigenvalue 1 of the hyperlink matrix H must be of of mulitplicity ≥r."
   ]
  }
 ],
 "metadata": {
  "kernelspec": {
   "display_name": "Python 3",
   "language": "python",
   "name": "python3"
  },
  "language_info": {
   "codemirror_mode": {
    "name": "ipython",
    "version": 3
   },
   "file_extension": ".py",
   "mimetype": "text/x-python",
   "name": "python",
   "nbconvert_exporter": "python",
   "pygments_lexer": "ipython3",
   "version": "3.5.4"
  }
 },
 "nbformat": 4,
 "nbformat_minor": 0
}
