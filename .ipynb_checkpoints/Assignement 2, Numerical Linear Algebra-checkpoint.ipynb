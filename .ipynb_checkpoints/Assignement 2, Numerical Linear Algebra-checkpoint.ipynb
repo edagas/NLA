{
 "cells": [
  {
   "cell_type": "markdown",
   "metadata": {},
   "source": [
    "A# Ramona Bendias, Eda Dagasan"
   ]
  },
  {
   "cell_type": "markdown",
   "metadata": {},
   "source": [
    "# Task 1"
   ]
  },
  {
   "cell_type": "code",
   "execution_count": 12,
   "metadata": {
    "collapsed": true
   },
   "outputs": [],
   "source": [
    "import numpy as np\n",
    "import scipy.linalg as la\n",
    "\n",
    "\n",
    "class Orthogonalization():\n",
    "    \"\"\"\n",
    "    A class of matrices with methods that orthogonalize the objects with\n",
    "    different algorithms and that evaluate the result in different ways.\n",
    "    \"\"\"\n",
    "    \n",
    "    def __init__(self, givenmatrix):\n",
    "        self.givenmatrix = givenmatrix\n",
    "    \n",
    "    def gramschmidt(self):\n",
    "        \"\"\"\n",
    "        Gram-Schmidt orthogonalization of an object of the class. \n",
    "        The method returns a matrice 'orthogonalmatrix' that is an \n",
    "        orthogonal basis of range(A).\n",
    "        \"\"\"\n",
    "        n = len(self.givenmatrix[0])\n",
    "        m = len(self.givenmatrix)\n",
    "        trianglematrix = np.zeros(shape=(n,n))\n",
    "        orthogonalmatrix = np.array(np.zeros(shape=(self.givenmatrix.shape)))\n",
    "        v = np.zeros(shape=(n,n))\n",
    "        for j in range(n):\n",
    "            v[j] = self.givenmatrix[j]\n",
    "            for i in range(j-1):\n",
    "                trianglematrix[i][j] = np.dot(orthogonalmatrix[i],self.givenmatrix[j])\n",
    "                v[j] = v[j] - trianglematrix[i][j]*orthogonalmatrix[i]\n",
    "            trianglematrix[j][j] = la.norm(v[j])\n",
    "            orthogonalmatrix[j] = np.divide(v[j],trianglematrix[j][j])\n",
    "\n",
    "        return orthogonalmatrix\n",
    "   \n",
    "    def norm(self, matrix):\n",
    "        \"\"\"\n",
    "        Returns the 2-norm of a the input matrix A.\n",
    "        \"\"\"\n",
    "        return np.linalg.norm(matrix, ord=2)\n",
    "        \n",
    "        \n",
    "    def qtq(self, matrix):\n",
    "        \"\"\"\n",
    "        Returns the matrix product of the transpose of the input matrix A with\n",
    "        itself.\n",
    "        \"\"\"\n",
    "        return np.dot(matrix.transpose(),matrix)\n",
    "        \n",
    "    def deviation(self, matrix):\n",
    "        \"\"\"\n",
    "        Returns the deviation of the output matrix of qtq from the identity \n",
    "        matrix.\n",
    "        \"\"\"\n",
    "        qtq = self.qtq(matrix)\n",
    "        I = np.identity(len(qtq))\n",
    "        return self.norm(I-qtq)\n",
    "        \n",
    "    def allclose(self, matrix):\n",
    "        \"\"\"\n",
    "        Returns True/False if all the entries of QTQ are closer than a \n",
    "        certain tolerance to the identity matrix.\n",
    "        \"\"\"\n",
    "        qtq = self.qtq(matrix)\n",
    "        I = np.identity(len(qtq))\n",
    "        return np.allclose(qtq, I)\n",
    "        \n",
    "    def eigenvalues(self, matrix):\n",
    "        \"\"\"\n",
    "        Returns an array with the eigenvalues of qtq of the input matrix A.\n",
    "        \"\"\"\n",
    "        return la.eigvals(self.qtq(matrix))\n",
    "    \n",
    "    def determinant(self, matrix):\n",
    "        \"\"\"\n",
    "        Returns the determinant of qtq of the input matrix A.\n",
    "        \"\"\"\n",
    "        return la.det(self.qtq(matrix))"
   ]
  },
  {
   "cell_type": "code",
   "execution_count": 13,
   "metadata": {
    "collapsed": false
   },
   "outputs": [
    {
     "name": "stdout",
     "output_type": "stream",
     "text": [
      "Random matrix [[ 0.71817933  0.80297935  0.66760897  0.12034719]\n",
      " [ 0.07478469  0.16089319  0.04697639  0.39083824]\n",
      " [ 0.19026435  0.19110106  0.66118018  0.62857187]\n",
      " [ 0.3973866   0.97767869  0.1478879   0.5439969 ]]\n",
      "Orthogonalized matrix [[ 0.56412569  0.63073562  0.52440297  0.09453202]\n",
      " [ 0.17319779  0.37262101  0.1087951   0.90516282]\n",
      " [-0.23602742 -0.29439307  0.46346208  0.80176473]\n",
      " [-0.45502148  0.02198784 -0.67370804 -0.58188441]]\n"
     ]
    }
   ],
   "source": [
    "A0 = np.random.rand(4,4)\n",
    "print('Random matrix', A0)\n",
    "A = Orthogonalization(A0)\n",
    "V = A.gramschmidt()\n",
    "print('Orthogonalized matrix', V)"
   ]
  },
  {
   "cell_type": "markdown",
   "metadata": {},
   "source": [
    "# Task 2"
   ]
  },
  {
   "cell_type": "code",
   "execution_count": null,
   "metadata": {
    "collapsed": true
   },
   "outputs": [],
   "source": []
  },
  {
   "cell_type": "markdown",
   "metadata": {},
   "source": [
    "# Task 3"
   ]
  },
  {
   "cell_type": "code",
   "execution_count": 14,
   "metadata": {
    "collapsed": false
   },
   "outputs": [
    {
     "name": "stdout",
     "output_type": "stream",
     "text": [
      "Triangular matrix: [[-0.84586696 -1.1982873  -0.78918292 -0.53369087]\n",
      " [ 0.         -0.47659756  0.27506307 -0.36084838]\n",
      " [ 0.          0.         -0.45658428 -0.59754839]\n",
      " [ 0.          0.          0.         -0.29355005]]\n",
      "B@S [[ 0.71817933  0.80297935  0.66760897  0.12034719]\n",
      " [ 0.07478469  0.16089319  0.04697639  0.39083824]\n",
      " [ 0.19026435  0.19110106  0.66118018  0.62857187]\n",
      " [ 0.3973866   0.97767869  0.1478879   0.5439969 ]]\n",
      "Norm B: 1.0\n",
      "Dev of BTB from I: 4.99839120305e-16\n",
      "BtB close to I? True\n",
      "Eigenvalues of BTB: [ 1.+0.j  1.+0.j  1.+0.j  1.+0.j]\n",
      "Determinant of BTB: 1.0\n"
     ]
    }
   ],
   "source": [
    "B,S = la.qr(A0)\n",
    "\n",
    "print('Triangular matrix:', S)\n",
    "print('B@S',B@S)\n",
    "print('Norm B:', A.norm(B))\n",
    "print('Dev of BTB from I:', A.deviation(B))\n",
    "print('BtB close to I?', A.allclose(B))\n",
    "print('Eigenvalues of BTB:', A.eigenvalues(B))\n",
    "print('Determinant of BTB:', A.determinant(B))"
   ]
  },
  {
   "cell_type": "markdown",
   "metadata": {},
   "source": [
    "# Task 4"
   ]
  },
  {
   "cell_type": "code",
   "execution_count": 18,
   "metadata": {
    "collapsed": false
   },
   "outputs": [
    {
     "name": "stdout",
     "output_type": "stream",
     "text": [
      "Random matrix [[ 0.46229768  0.85074589  0.08233453]\n",
      " [ 0.61568009  0.92827477  0.43027533]\n",
      " [ 0.4569071   0.83981404  0.10927535]]\n",
      "Triangular matrix:\n",
      " [[ -8.95290574e-01  -1.50625415e+00  -3.94177831e-01]\n",
      " [ -3.95251068e-17   1.48150900e-01  -2.19381233e-01]\n",
      " [ -1.30806301e-17   0.00000000e+00  -1.87788374e-02]]\n",
      "Q@R:\n",
      " [[ 0.46229768  0.67589702  0.36398946]\n",
      " [-0.44094897 -0.84941836 -0.04388313]\n",
      " [-0.62720816 -1.05470466 -0.26352016]]\n",
      "Norm of Q:\n",
      " 1.0\n",
      "Deviation of QTQ from I:\n",
      " 3.74158653484e-16\n",
      "QTQ allclose to I?\n",
      " True\n",
      "Eigenvalues of QTQ:\n",
      " [ 1.+0.j  1.+0.j  1.+0.j]\n",
      "Determinant of QTQ:\n",
      " 1.0\n"
     ]
    }
   ],
   "source": [
    "import numpy as np\n",
    "import scipy.linalg as la\n",
    "\n",
    "\n",
    "class Orthogonalization():\n",
    "    \"\"\"\n",
    "    A class of matrices with methods that orthogonalize the objects with\n",
    "    different algorithms and that evaluate the result in different ways.\n",
    "    \"\"\"\n",
    "    \n",
    "    def __init__(self, givenmatrix):\n",
    "        self.givenmatrix = givenmatrix\n",
    "        \n",
    "    def householder(self):\n",
    "        \"\"\"\n",
    "        Will not work with a already triangular matrix (:\n",
    "        \"\"\"\n",
    "        A = self.givenmatrix\n",
    "        m = shape(A)[0]\n",
    "        n = shape(A)[1]\n",
    "        Q = identity(m)\n",
    "        for i in range(n):\n",
    "            Q_i = identity(m)\n",
    "            x = A[i:m,i]\n",
    "            s = int(sign(x[0]))\n",
    "            u = s*array([norm(x)]+(m-i-1)*[0.]) \n",
    "            v_i = x + u\n",
    "            v_i /= norm(v_i)\n",
    "            Q_i_hat = eye(m-i) - 2*outer(v_i,v_i)\n",
    "            Q_i[i:m,i:m] = Q_i_hat\n",
    "            Q = Q_i@Q\n",
    "            A = Q_i@A\n",
    "        return Q, A\n",
    "        \n",
    "    def norm(self, matrix):\n",
    "        \"\"\"\n",
    "        Returns the 2-norm of a the input matrix A.\n",
    "        \"\"\"\n",
    "        return np.linalg.norm(matrix, ord=2)\n",
    "        \n",
    "        \n",
    "    def qtq(self, matrix):\n",
    "        \"\"\"\n",
    "        Returns the matrix product of the transpose of the input matrix A with\n",
    "        itself.\n",
    "        \"\"\"\n",
    "        return np.dot(matrix.transpose(),matrix)\n",
    "        \n",
    "    def deviation(self, matrix):\n",
    "        \"\"\"\n",
    "        Returns the deviation of the output matrix of qtq from the identity \n",
    "        matrix.\n",
    "        \"\"\"\n",
    "        qtq = self.qtq(matrix)\n",
    "        I = np.identity(len(qtq))\n",
    "        return self.norm(I-qtq)\n",
    "        \n",
    "    def allclose(self, matrix):\n",
    "        \"\"\"\n",
    "        Returns True/False if all the entries of QTQ are closer than a \n",
    "        certain tolerance to the identity matrix.\n",
    "        \"\"\"\n",
    "        qtq = self.qtq(matrix)\n",
    "        I = np.identity(len(qtq))\n",
    "        return np.allclose(qtq, I)\n",
    "        \n",
    "    def eigenvalues(self, matrix):\n",
    "        \"\"\"\n",
    "        Returns an array with the eigenvalues of qtq of the input matrix A.\n",
    "        \"\"\"\n",
    "        return la.eigvals(self.qtq(matrix))\n",
    "    \n",
    "    def determinant(self, matrix):\n",
    "        \"\"\"\n",
    "        Returns the determinant of qtq of the input matrix A.\n",
    "        \"\"\"\n",
    "        return la.det(self.qtq(matrix))\n",
    "\n",
    "A0 = np.random.rand(3,3)\n",
    "print('Random matrix\\n', A0)\n",
    "A = Orthogonalization(A0)\n",
    "\n",
    "Q,R = A.householder()\n",
    "print('Triangular matrix:\\n', R)\n",
    "print('Q@R:\\n', Q@R)\n",
    "print('Norm of Q:\\n', A.norm(Q))\n",
    "print('Deviation of QTQ from I:\\n', A.deviation(Q))\n",
    "print('QTQ allclose to I?\\n', A.allclose(Q))\n",
    "print('Eigenvalues of QTQ:\\n', A.eigenvalues(Q))\n",
    "print('Determinant of QTQ:\\n', A.determinant(Q))"
   ]
  },
  {
   "cell_type": "markdown",
   "metadata": {},
   "source": [
    "We have obtained an upper triangular matrix R and an orthogonal matrix Q (2-norm equal to 1 etc). However QR does not give exactly A."
   ]
  },
  {
   "cell_type": "markdown",
   "metadata": {},
   "source": [
    "# Task 5"
   ]
  },
  {
   "cell_type": "code",
   "execution_count": 20,
   "metadata": {
    "collapsed": false
   },
   "outputs": [
    {
     "name": "stdout",
     "output_type": "stream",
     "text": [
      "Random matrix\n",
      " [[ 0.56805938  0.11893226  0.16066496]\n",
      " [ 0.07767156  0.02337333  0.01248294]\n",
      " [ 0.55440036  0.57431109  0.17971081]]\n",
      "Triangular matrix:\n",
      " [[  7.97548800e-01   4.86207618e-01   2.40572793e-01]\n",
      " [ -1.09369058e-16   3.28826048e-01   1.71567868e-02]\n",
      " [  1.90882390e-17   0.00000000e+00   9.76743995e-03]]\n",
      "q@r:\n",
      " [[ 0.56805938  0.37832823  0.17981006]\n",
      " [-0.55147856 -0.36017384 -0.16057911]\n",
      " [ 0.09624984 -0.26770688  0.01215394]]\n",
      "Norm: 1.0\n",
      "Deviation from I of qtq:\n",
      " 2.61509564004e-16\n",
      "Qtq allclose to I?\n",
      " True\n",
      "Eigenvalues of qtq:\n",
      " [ 1.+0.j  1.+0.j  1.+0.j]\n",
      "Determinant of qtq:\n",
      " 1.0000000000000004\n"
     ]
    }
   ],
   "source": [
    "from numpy import *\n",
    "from scipy.linalg import *\n",
    "\n",
    "\n",
    "class Orthogonalization():\n",
    "    \"\"\"\n",
    "    A class of matrices with methods that orthogonalize the objects with\n",
    "    different algorithms and that evaluate the result in different ways.\n",
    "    \"\"\"\n",
    "    \n",
    "    def __init__(self, givenmatrix):\n",
    "        self.givenmatrix = givenmatrix\n",
    "        \n",
    "    def givens(self):\n",
    "        \"\"\"\n",
    "        Takes a (mxn)-matrix with m≥n and returns its QR-factorization as the\n",
    "        two matrices Q, A, by using Givens rotations.\n",
    "        \"\"\"\n",
    "        A = self.givenmatrix\n",
    "        m = shape(A)[0]\n",
    "        n = shape(A)[1]\n",
    "        Q = identity(m)\n",
    "        for i in range(n): #counting through the columns of the matrix\n",
    "            Q_i = identity(m)\n",
    "            x = A[i:m,i]\n",
    "            l = len(x)\n",
    "            Q_i_hat = identity(l)\n",
    "            for j in range(l-1):\n",
    "                J_j = identity(l) #rotation matrix to be\n",
    "                a = x[l-(j+2)]\n",
    "                b = x[l-(j+1)]\n",
    "                r = sqrt(a**2+b**2)\n",
    "                c = a/r\n",
    "                s = -b/r\n",
    "                rotation = array([[c, -s], [s, c]])\n",
    "                J_j[l-2-j:l-j, l-2-j:l-j] = rotation #rotation matrix in the \n",
    "                                                    #(n-(i-1), n-i)-plane               \n",
    "                Q_i_hat = J_j@Q_i_hat #matrix for all the rotations of one vector\n",
    "                x = dot(J_j,x)\n",
    "            Q_i[i:m,i:m] = Q_i_hat\n",
    "            Q = Q_i@Q\n",
    "            A = Q_i@A\n",
    "        return Q, A\n",
    "        \n",
    "    def norm(self, matrix):\n",
    "        \"\"\"\n",
    "        Returns the 2-norm of a the input matrix A.\n",
    "        \"\"\"\n",
    "        return np.linalg.norm(matrix, ord=2)\n",
    "        \n",
    "        \n",
    "    def qtq(self, matrix):\n",
    "        \"\"\"\n",
    "        Returns the matrix product of the transpose of the input matrix A with\n",
    "        itself.\n",
    "        \"\"\"\n",
    "        return np.dot(matrix.transpose(),matrix)\n",
    "        \n",
    "    def deviation(self, matrix):\n",
    "        \"\"\"\n",
    "        Returns the deviation of the output matrix of qtq from the identity \n",
    "        matrix.\n",
    "        \"\"\"\n",
    "        qtq = self.qtq(matrix)\n",
    "        I = np.identity(len(qtq))\n",
    "        return self.norm(I-qtq)\n",
    "        \n",
    "    def allclose(self, matrix):\n",
    "        \"\"\"\n",
    "        Returns True/False if all the entries of QTQ are closer than a \n",
    "        certain tolerance to the identity matrix.\n",
    "        \"\"\"\n",
    "        qtq = self.qtq(matrix)\n",
    "        I = np.identity(len(qtq))\n",
    "        return np.allclose(qtq, I)\n",
    "        \n",
    "    def eigenvalues(self, matrix):\n",
    "        \"\"\"\n",
    "        Returns an array with the eigenvalues of qtq of the input matrix A.\n",
    "        \"\"\"\n",
    "        return la.eigvals(self.qtq(matrix))\n",
    "    \n",
    "    def determinant(self, matrix):\n",
    "        \"\"\"\n",
    "        Returns the determinant of qtq of the input matrix A.\n",
    "        \"\"\"\n",
    "        return la.det(self.qtq(matrix))\n",
    "\n",
    "A0 = np.random.rand(3,3)\n",
    "print('Random matrix\\n', A0)\n",
    "A = Orthogonalization(A0)\n",
    "\n",
    "q,r = A.givens()\n",
    "print('Triangular matrix:\\n', r)\n",
    "print('q@r:\\n',q@r)\n",
    "print('Norm:', A.norm(q))\n",
    "print('Deviation from I of qtq:\\n', A.deviation(q))\n",
    "print('Qtq allclose to I?\\n', A.allclose(q))\n",
    "print('Eigenvalues of qtq:\\n', A.eigenvalues(q))\n",
    "print('Determinant of qtq:\\n', A.determinant(q))"
   ]
  },
  {
   "cell_type": "markdown",
   "metadata": {
    "collapsed": true
   },
   "source": []
  }
 ],
 "metadata": {
  "kernelspec": {
   "display_name": "Python 3",
   "language": "python",
   "name": "python3"
  },
  "language_info": {
   "codemirror_mode": {
    "name": "ipython",
    "version": 3
   },
   "file_extension": ".py",
   "mimetype": "text/x-python",
   "name": "python",
   "nbconvert_exporter": "python",
   "pygments_lexer": "ipython3",
   "version": "3.5.4"
  }
 },
 "nbformat": 4,
 "nbformat_minor": 0
}
